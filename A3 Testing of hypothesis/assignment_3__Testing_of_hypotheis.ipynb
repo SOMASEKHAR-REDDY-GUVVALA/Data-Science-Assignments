{
  "nbformat": 4,
  "nbformat_minor": 0,
  "metadata": {
    "colab": {
      "provenance": []
    },
    "kernelspec": {
      "name": "python3",
      "display_name": "Python 3"
    },
    "language_info": {
      "name": "python"
    }
  },
  "cells": [
    {
      "cell_type": "markdown",
      "source": [
        "**<center>* Assignment 3: Testing of Hypothesis *</center>**\n",
        "\n",
        "***DATASCIENCE***\n",
        "\n",
        "***name: GUVVALA SOMASEKHAR REDDY***\n",
        "\n",
        "***mail: showmove5697@gmail.com***"
      ],
      "metadata": {
        "id": "D-jHhSMCbui5"
      }
    },
    {
      "cell_type": "code",
      "execution_count": null,
      "metadata": {
        "id": "HbvH3c-Vbeof"
      },
      "outputs": [],
      "source": [
        "import pandas as pd\n",
        "import numpy as np\n",
        "import matplotlib.pyplot as plt\n",
        "import seaborn as sns\n",
        "import warnings\n",
        "warnings.filterwarnings('ignore')\n",
        "\n",
        "from scipy import stats\n",
        "from scipy.stats import norm"
      ]
    },
    {
      "cell_type": "markdown",
      "source": [
        "**Question-1)**\n",
        " \n",
        " **A F&B manager wants to determine whether there is any significant difference in the diameter of the cutlet between two units. A randomly selected sample of cutlets was collected from both units and measured? Analyze the data and draw inferences at 5% significance level. Please state the assumptions and tests that you carried out to check validity of the assumptions.**\n",
        "\n",
        "**Minitab File** : **Cutlets.mtw**"
      ],
      "metadata": {
        "id": "McnVS61HcqbP"
      }
    },
    {
      "cell_type": "markdown",
      "source": [
        "Ans: **There is no significance difference in the diameter of the cutlet  between  two units A and unit B**\n",
        "\n",
        "Explanation:\n",
        "\n",
        "Now, we are checking whether there is  any significant difference in the diameter of the cutlet between two units  μ1 and μ2.\n",
        "\n",
        "**Hypothesis:**\n",
        "\n",
        "Null Hypothesis H0: μ1 = μ2\n",
        "\n",
        "Alternative Hypthosis HA: μ1 ≠ μ2\n",
        "\n",
        "**Test:** \n",
        "\n",
        "t test two sided\n",
        "\n",
        "**significance:**\n",
        "\n",
        " α = 5% = 0.05\n",
        "\n",
        "**Comparision & conclusion:**\n",
        "\n",
        "p_value with 'α' \n",
        "\n",
        "If p_value > 'α' we failed to reject Null Hypothesis because of lack of evidence\n",
        "\n",
        "If p_value is < 'α' we reject Null Hypothesis\n",
        "\n"
      ],
      "metadata": {
        "id": "8xr9PdsdnWng"
      }
    },
    {
      "cell_type": "code",
      "source": [
        "from google.colab import files\n",
        "uploaded=files.upload()"
      ],
      "metadata": {
        "colab": {
          "base_uri": "https://localhost:8080/",
          "height": 73
        },
        "id": "0VLEHb-cdG0U",
        "outputId": "c2ed820e-92e1-4f40-e774-13398088faee"
      },
      "execution_count": null,
      "outputs": [
        {
          "output_type": "display_data",
          "data": {
            "text/plain": [
              "<IPython.core.display.HTML object>"
            ],
            "text/html": [
              "\n",
              "     <input type=\"file\" id=\"files-cb4594a2-723e-40d4-ac3a-078e44437a22\" name=\"files[]\" multiple disabled\n",
              "        style=\"border:none\" />\n",
              "     <output id=\"result-cb4594a2-723e-40d4-ac3a-078e44437a22\">\n",
              "      Upload widget is only available when the cell has been executed in the\n",
              "      current browser session. Please rerun this cell to enable.\n",
              "      </output>\n",
              "      <script>// Copyright 2017 Google LLC\n",
              "//\n",
              "// Licensed under the Apache License, Version 2.0 (the \"License\");\n",
              "// you may not use this file except in compliance with the License.\n",
              "// You may obtain a copy of the License at\n",
              "//\n",
              "//      http://www.apache.org/licenses/LICENSE-2.0\n",
              "//\n",
              "// Unless required by applicable law or agreed to in writing, software\n",
              "// distributed under the License is distributed on an \"AS IS\" BASIS,\n",
              "// WITHOUT WARRANTIES OR CONDITIONS OF ANY KIND, either express or implied.\n",
              "// See the License for the specific language governing permissions and\n",
              "// limitations under the License.\n",
              "\n",
              "/**\n",
              " * @fileoverview Helpers for google.colab Python module.\n",
              " */\n",
              "(function(scope) {\n",
              "function span(text, styleAttributes = {}) {\n",
              "  const element = document.createElement('span');\n",
              "  element.textContent = text;\n",
              "  for (const key of Object.keys(styleAttributes)) {\n",
              "    element.style[key] = styleAttributes[key];\n",
              "  }\n",
              "  return element;\n",
              "}\n",
              "\n",
              "// Max number of bytes which will be uploaded at a time.\n",
              "const MAX_PAYLOAD_SIZE = 100 * 1024;\n",
              "\n",
              "function _uploadFiles(inputId, outputId) {\n",
              "  const steps = uploadFilesStep(inputId, outputId);\n",
              "  const outputElement = document.getElementById(outputId);\n",
              "  // Cache steps on the outputElement to make it available for the next call\n",
              "  // to uploadFilesContinue from Python.\n",
              "  outputElement.steps = steps;\n",
              "\n",
              "  return _uploadFilesContinue(outputId);\n",
              "}\n",
              "\n",
              "// This is roughly an async generator (not supported in the browser yet),\n",
              "// where there are multiple asynchronous steps and the Python side is going\n",
              "// to poll for completion of each step.\n",
              "// This uses a Promise to block the python side on completion of each step,\n",
              "// then passes the result of the previous step as the input to the next step.\n",
              "function _uploadFilesContinue(outputId) {\n",
              "  const outputElement = document.getElementById(outputId);\n",
              "  const steps = outputElement.steps;\n",
              "\n",
              "  const next = steps.next(outputElement.lastPromiseValue);\n",
              "  return Promise.resolve(next.value.promise).then((value) => {\n",
              "    // Cache the last promise value to make it available to the next\n",
              "    // step of the generator.\n",
              "    outputElement.lastPromiseValue = value;\n",
              "    return next.value.response;\n",
              "  });\n",
              "}\n",
              "\n",
              "/**\n",
              " * Generator function which is called between each async step of the upload\n",
              " * process.\n",
              " * @param {string} inputId Element ID of the input file picker element.\n",
              " * @param {string} outputId Element ID of the output display.\n",
              " * @return {!Iterable<!Object>} Iterable of next steps.\n",
              " */\n",
              "function* uploadFilesStep(inputId, outputId) {\n",
              "  const inputElement = document.getElementById(inputId);\n",
              "  inputElement.disabled = false;\n",
              "\n",
              "  const outputElement = document.getElementById(outputId);\n",
              "  outputElement.innerHTML = '';\n",
              "\n",
              "  const pickedPromise = new Promise((resolve) => {\n",
              "    inputElement.addEventListener('change', (e) => {\n",
              "      resolve(e.target.files);\n",
              "    });\n",
              "  });\n",
              "\n",
              "  const cancel = document.createElement('button');\n",
              "  inputElement.parentElement.appendChild(cancel);\n",
              "  cancel.textContent = 'Cancel upload';\n",
              "  const cancelPromise = new Promise((resolve) => {\n",
              "    cancel.onclick = () => {\n",
              "      resolve(null);\n",
              "    };\n",
              "  });\n",
              "\n",
              "  // Wait for the user to pick the files.\n",
              "  const files = yield {\n",
              "    promise: Promise.race([pickedPromise, cancelPromise]),\n",
              "    response: {\n",
              "      action: 'starting',\n",
              "    }\n",
              "  };\n",
              "\n",
              "  cancel.remove();\n",
              "\n",
              "  // Disable the input element since further picks are not allowed.\n",
              "  inputElement.disabled = true;\n",
              "\n",
              "  if (!files) {\n",
              "    return {\n",
              "      response: {\n",
              "        action: 'complete',\n",
              "      }\n",
              "    };\n",
              "  }\n",
              "\n",
              "  for (const file of files) {\n",
              "    const li = document.createElement('li');\n",
              "    li.append(span(file.name, {fontWeight: 'bold'}));\n",
              "    li.append(span(\n",
              "        `(${file.type || 'n/a'}) - ${file.size} bytes, ` +\n",
              "        `last modified: ${\n",
              "            file.lastModifiedDate ? file.lastModifiedDate.toLocaleDateString() :\n",
              "                                    'n/a'} - `));\n",
              "    const percent = span('0% done');\n",
              "    li.appendChild(percent);\n",
              "\n",
              "    outputElement.appendChild(li);\n",
              "\n",
              "    const fileDataPromise = new Promise((resolve) => {\n",
              "      const reader = new FileReader();\n",
              "      reader.onload = (e) => {\n",
              "        resolve(e.target.result);\n",
              "      };\n",
              "      reader.readAsArrayBuffer(file);\n",
              "    });\n",
              "    // Wait for the data to be ready.\n",
              "    let fileData = yield {\n",
              "      promise: fileDataPromise,\n",
              "      response: {\n",
              "        action: 'continue',\n",
              "      }\n",
              "    };\n",
              "\n",
              "    // Use a chunked sending to avoid message size limits. See b/62115660.\n",
              "    let position = 0;\n",
              "    do {\n",
              "      const length = Math.min(fileData.byteLength - position, MAX_PAYLOAD_SIZE);\n",
              "      const chunk = new Uint8Array(fileData, position, length);\n",
              "      position += length;\n",
              "\n",
              "      const base64 = btoa(String.fromCharCode.apply(null, chunk));\n",
              "      yield {\n",
              "        response: {\n",
              "          action: 'append',\n",
              "          file: file.name,\n",
              "          data: base64,\n",
              "        },\n",
              "      };\n",
              "\n",
              "      let percentDone = fileData.byteLength === 0 ?\n",
              "          100 :\n",
              "          Math.round((position / fileData.byteLength) * 100);\n",
              "      percent.textContent = `${percentDone}% done`;\n",
              "\n",
              "    } while (position < fileData.byteLength);\n",
              "  }\n",
              "\n",
              "  // All done.\n",
              "  yield {\n",
              "    response: {\n",
              "      action: 'complete',\n",
              "    }\n",
              "  };\n",
              "}\n",
              "\n",
              "scope.google = scope.google || {};\n",
              "scope.google.colab = scope.google.colab || {};\n",
              "scope.google.colab._files = {\n",
              "  _uploadFiles,\n",
              "  _uploadFilesContinue,\n",
              "};\n",
              "})(self);\n",
              "</script> "
            ]
          },
          "metadata": {}
        },
        {
          "output_type": "stream",
          "name": "stdout",
          "text": [
            "Saving Cutlets.csv to Cutlets.csv\n"
          ]
        }
      ]
    },
    {
      "cell_type": "code",
      "source": [
        "cutlets=pd.read_csv('Cutlets.csv')\n",
        "cutlets.head()"
      ],
      "metadata": {
        "colab": {
          "base_uri": "https://localhost:8080/",
          "height": 206
        },
        "id": "QkCZNj7kfS9R",
        "outputId": "9e9aadbb-a34c-4df7-81d1-dd77a6b3b3a2"
      },
      "execution_count": null,
      "outputs": [
        {
          "output_type": "execute_result",
          "data": {
            "text/plain": [
              "   Unit A  Unit B\n",
              "0  6.8090  6.7703\n",
              "1  6.4376  7.5093\n",
              "2  6.9157  6.7300\n",
              "3  7.3012  6.7878\n",
              "4  7.4488  7.1522"
            ],
            "text/html": [
              "\n",
              "  <div id=\"df-4fa2dedf-57c7-4d88-8383-740c7642683d\">\n",
              "    <div class=\"colab-df-container\">\n",
              "      <div>\n",
              "<style scoped>\n",
              "    .dataframe tbody tr th:only-of-type {\n",
              "        vertical-align: middle;\n",
              "    }\n",
              "\n",
              "    .dataframe tbody tr th {\n",
              "        vertical-align: top;\n",
              "    }\n",
              "\n",
              "    .dataframe thead th {\n",
              "        text-align: right;\n",
              "    }\n",
              "</style>\n",
              "<table border=\"1\" class=\"dataframe\">\n",
              "  <thead>\n",
              "    <tr style=\"text-align: right;\">\n",
              "      <th></th>\n",
              "      <th>Unit A</th>\n",
              "      <th>Unit B</th>\n",
              "    </tr>\n",
              "  </thead>\n",
              "  <tbody>\n",
              "    <tr>\n",
              "      <th>0</th>\n",
              "      <td>6.8090</td>\n",
              "      <td>6.7703</td>\n",
              "    </tr>\n",
              "    <tr>\n",
              "      <th>1</th>\n",
              "      <td>6.4376</td>\n",
              "      <td>7.5093</td>\n",
              "    </tr>\n",
              "    <tr>\n",
              "      <th>2</th>\n",
              "      <td>6.9157</td>\n",
              "      <td>6.7300</td>\n",
              "    </tr>\n",
              "    <tr>\n",
              "      <th>3</th>\n",
              "      <td>7.3012</td>\n",
              "      <td>6.7878</td>\n",
              "    </tr>\n",
              "    <tr>\n",
              "      <th>4</th>\n",
              "      <td>7.4488</td>\n",
              "      <td>7.1522</td>\n",
              "    </tr>\n",
              "  </tbody>\n",
              "</table>\n",
              "</div>\n",
              "      <button class=\"colab-df-convert\" onclick=\"convertToInteractive('df-4fa2dedf-57c7-4d88-8383-740c7642683d')\"\n",
              "              title=\"Convert this dataframe to an interactive table.\"\n",
              "              style=\"display:none;\">\n",
              "        \n",
              "  <svg xmlns=\"http://www.w3.org/2000/svg\" height=\"24px\"viewBox=\"0 0 24 24\"\n",
              "       width=\"24px\">\n",
              "    <path d=\"M0 0h24v24H0V0z\" fill=\"none\"/>\n",
              "    <path d=\"M18.56 5.44l.94 2.06.94-2.06 2.06-.94-2.06-.94-.94-2.06-.94 2.06-2.06.94zm-11 1L8.5 8.5l.94-2.06 2.06-.94-2.06-.94L8.5 2.5l-.94 2.06-2.06.94zm10 10l.94 2.06.94-2.06 2.06-.94-2.06-.94-.94-2.06-.94 2.06-2.06.94z\"/><path d=\"M17.41 7.96l-1.37-1.37c-.4-.4-.92-.59-1.43-.59-.52 0-1.04.2-1.43.59L10.3 9.45l-7.72 7.72c-.78.78-.78 2.05 0 2.83L4 21.41c.39.39.9.59 1.41.59.51 0 1.02-.2 1.41-.59l7.78-7.78 2.81-2.81c.8-.78.8-2.07 0-2.86zM5.41 20L4 18.59l7.72-7.72 1.47 1.35L5.41 20z\"/>\n",
              "  </svg>\n",
              "      </button>\n",
              "      \n",
              "  <style>\n",
              "    .colab-df-container {\n",
              "      display:flex;\n",
              "      flex-wrap:wrap;\n",
              "      gap: 12px;\n",
              "    }\n",
              "\n",
              "    .colab-df-convert {\n",
              "      background-color: #E8F0FE;\n",
              "      border: none;\n",
              "      border-radius: 50%;\n",
              "      cursor: pointer;\n",
              "      display: none;\n",
              "      fill: #1967D2;\n",
              "      height: 32px;\n",
              "      padding: 0 0 0 0;\n",
              "      width: 32px;\n",
              "    }\n",
              "\n",
              "    .colab-df-convert:hover {\n",
              "      background-color: #E2EBFA;\n",
              "      box-shadow: 0px 1px 2px rgba(60, 64, 67, 0.3), 0px 1px 3px 1px rgba(60, 64, 67, 0.15);\n",
              "      fill: #174EA6;\n",
              "    }\n",
              "\n",
              "    [theme=dark] .colab-df-convert {\n",
              "      background-color: #3B4455;\n",
              "      fill: #D2E3FC;\n",
              "    }\n",
              "\n",
              "    [theme=dark] .colab-df-convert:hover {\n",
              "      background-color: #434B5C;\n",
              "      box-shadow: 0px 1px 3px 1px rgba(0, 0, 0, 0.15);\n",
              "      filter: drop-shadow(0px 1px 2px rgba(0, 0, 0, 0.3));\n",
              "      fill: #FFFFFF;\n",
              "    }\n",
              "  </style>\n",
              "\n",
              "      <script>\n",
              "        const buttonEl =\n",
              "          document.querySelector('#df-4fa2dedf-57c7-4d88-8383-740c7642683d button.colab-df-convert');\n",
              "        buttonEl.style.display =\n",
              "          google.colab.kernel.accessAllowed ? 'block' : 'none';\n",
              "\n",
              "        async function convertToInteractive(key) {\n",
              "          const element = document.querySelector('#df-4fa2dedf-57c7-4d88-8383-740c7642683d');\n",
              "          const dataTable =\n",
              "            await google.colab.kernel.invokeFunction('convertToInteractive',\n",
              "                                                     [key], {});\n",
              "          if (!dataTable) return;\n",
              "\n",
              "          const docLinkHtml = 'Like what you see? Visit the ' +\n",
              "            '<a target=\"_blank\" href=https://colab.research.google.com/notebooks/data_table.ipynb>data table notebook</a>'\n",
              "            + ' to learn more about interactive tables.';\n",
              "          element.innerHTML = '';\n",
              "          dataTable['output_type'] = 'display_data';\n",
              "          await google.colab.output.renderOutput(dataTable, element);\n",
              "          const docLink = document.createElement('div');\n",
              "          docLink.innerHTML = docLinkHtml;\n",
              "          element.appendChild(docLink);\n",
              "        }\n",
              "      </script>\n",
              "    </div>\n",
              "  </div>\n",
              "  "
            ]
          },
          "metadata": {},
          "execution_count": 5
        }
      ]
    },
    {
      "cell_type": "code",
      "source": [
        "cutlets.describe()"
      ],
      "metadata": {
        "colab": {
          "base_uri": "https://localhost:8080/",
          "height": 300
        },
        "id": "QQ8S6Xy8lX78",
        "outputId": "56ff5275-b7cf-4762-e946-15914677b405"
      },
      "execution_count": null,
      "outputs": [
        {
          "output_type": "execute_result",
          "data": {
            "text/plain": [
              "          Unit A     Unit B\n",
              "count  35.000000  35.000000\n",
              "mean    7.019091   6.964297\n",
              "std     0.288408   0.343401\n",
              "min     6.437600   6.038000\n",
              "25%     6.831500   6.753600\n",
              "50%     6.943800   6.939900\n",
              "75%     7.280550   7.195000\n",
              "max     7.516900   7.545900"
            ],
            "text/html": [
              "\n",
              "  <div id=\"df-4a64026f-e13b-4ca5-9e27-988a90cc84d5\">\n",
              "    <div class=\"colab-df-container\">\n",
              "      <div>\n",
              "<style scoped>\n",
              "    .dataframe tbody tr th:only-of-type {\n",
              "        vertical-align: middle;\n",
              "    }\n",
              "\n",
              "    .dataframe tbody tr th {\n",
              "        vertical-align: top;\n",
              "    }\n",
              "\n",
              "    .dataframe thead th {\n",
              "        text-align: right;\n",
              "    }\n",
              "</style>\n",
              "<table border=\"1\" class=\"dataframe\">\n",
              "  <thead>\n",
              "    <tr style=\"text-align: right;\">\n",
              "      <th></th>\n",
              "      <th>Unit A</th>\n",
              "      <th>Unit B</th>\n",
              "    </tr>\n",
              "  </thead>\n",
              "  <tbody>\n",
              "    <tr>\n",
              "      <th>count</th>\n",
              "      <td>35.000000</td>\n",
              "      <td>35.000000</td>\n",
              "    </tr>\n",
              "    <tr>\n",
              "      <th>mean</th>\n",
              "      <td>7.019091</td>\n",
              "      <td>6.964297</td>\n",
              "    </tr>\n",
              "    <tr>\n",
              "      <th>std</th>\n",
              "      <td>0.288408</td>\n",
              "      <td>0.343401</td>\n",
              "    </tr>\n",
              "    <tr>\n",
              "      <th>min</th>\n",
              "      <td>6.437600</td>\n",
              "      <td>6.038000</td>\n",
              "    </tr>\n",
              "    <tr>\n",
              "      <th>25%</th>\n",
              "      <td>6.831500</td>\n",
              "      <td>6.753600</td>\n",
              "    </tr>\n",
              "    <tr>\n",
              "      <th>50%</th>\n",
              "      <td>6.943800</td>\n",
              "      <td>6.939900</td>\n",
              "    </tr>\n",
              "    <tr>\n",
              "      <th>75%</th>\n",
              "      <td>7.280550</td>\n",
              "      <td>7.195000</td>\n",
              "    </tr>\n",
              "    <tr>\n",
              "      <th>max</th>\n",
              "      <td>7.516900</td>\n",
              "      <td>7.545900</td>\n",
              "    </tr>\n",
              "  </tbody>\n",
              "</table>\n",
              "</div>\n",
              "      <button class=\"colab-df-convert\" onclick=\"convertToInteractive('df-4a64026f-e13b-4ca5-9e27-988a90cc84d5')\"\n",
              "              title=\"Convert this dataframe to an interactive table.\"\n",
              "              style=\"display:none;\">\n",
              "        \n",
              "  <svg xmlns=\"http://www.w3.org/2000/svg\" height=\"24px\"viewBox=\"0 0 24 24\"\n",
              "       width=\"24px\">\n",
              "    <path d=\"M0 0h24v24H0V0z\" fill=\"none\"/>\n",
              "    <path d=\"M18.56 5.44l.94 2.06.94-2.06 2.06-.94-2.06-.94-.94-2.06-.94 2.06-2.06.94zm-11 1L8.5 8.5l.94-2.06 2.06-.94-2.06-.94L8.5 2.5l-.94 2.06-2.06.94zm10 10l.94 2.06.94-2.06 2.06-.94-2.06-.94-.94-2.06-.94 2.06-2.06.94z\"/><path d=\"M17.41 7.96l-1.37-1.37c-.4-.4-.92-.59-1.43-.59-.52 0-1.04.2-1.43.59L10.3 9.45l-7.72 7.72c-.78.78-.78 2.05 0 2.83L4 21.41c.39.39.9.59 1.41.59.51 0 1.02-.2 1.41-.59l7.78-7.78 2.81-2.81c.8-.78.8-2.07 0-2.86zM5.41 20L4 18.59l7.72-7.72 1.47 1.35L5.41 20z\"/>\n",
              "  </svg>\n",
              "      </button>\n",
              "      \n",
              "  <style>\n",
              "    .colab-df-container {\n",
              "      display:flex;\n",
              "      flex-wrap:wrap;\n",
              "      gap: 12px;\n",
              "    }\n",
              "\n",
              "    .colab-df-convert {\n",
              "      background-color: #E8F0FE;\n",
              "      border: none;\n",
              "      border-radius: 50%;\n",
              "      cursor: pointer;\n",
              "      display: none;\n",
              "      fill: #1967D2;\n",
              "      height: 32px;\n",
              "      padding: 0 0 0 0;\n",
              "      width: 32px;\n",
              "    }\n",
              "\n",
              "    .colab-df-convert:hover {\n",
              "      background-color: #E2EBFA;\n",
              "      box-shadow: 0px 1px 2px rgba(60, 64, 67, 0.3), 0px 1px 3px 1px rgba(60, 64, 67, 0.15);\n",
              "      fill: #174EA6;\n",
              "    }\n",
              "\n",
              "    [theme=dark] .colab-df-convert {\n",
              "      background-color: #3B4455;\n",
              "      fill: #D2E3FC;\n",
              "    }\n",
              "\n",
              "    [theme=dark] .colab-df-convert:hover {\n",
              "      background-color: #434B5C;\n",
              "      box-shadow: 0px 1px 3px 1px rgba(0, 0, 0, 0.15);\n",
              "      filter: drop-shadow(0px 1px 2px rgba(0, 0, 0, 0.3));\n",
              "      fill: #FFFFFF;\n",
              "    }\n",
              "  </style>\n",
              "\n",
              "      <script>\n",
              "        const buttonEl =\n",
              "          document.querySelector('#df-4a64026f-e13b-4ca5-9e27-988a90cc84d5 button.colab-df-convert');\n",
              "        buttonEl.style.display =\n",
              "          google.colab.kernel.accessAllowed ? 'block' : 'none';\n",
              "\n",
              "        async function convertToInteractive(key) {\n",
              "          const element = document.querySelector('#df-4a64026f-e13b-4ca5-9e27-988a90cc84d5');\n",
              "          const dataTable =\n",
              "            await google.colab.kernel.invokeFunction('convertToInteractive',\n",
              "                                                     [key], {});\n",
              "          if (!dataTable) return;\n",
              "\n",
              "          const docLinkHtml = 'Like what you see? Visit the ' +\n",
              "            '<a target=\"_blank\" href=https://colab.research.google.com/notebooks/data_table.ipynb>data table notebook</a>'\n",
              "            + ' to learn more about interactive tables.';\n",
              "          element.innerHTML = '';\n",
              "          dataTable['output_type'] = 'display_data';\n",
              "          await google.colab.output.renderOutput(dataTable, element);\n",
              "          const docLink = document.createElement('div');\n",
              "          docLink.innerHTML = docLinkHtml;\n",
              "          element.appendChild(docLink);\n",
              "        }\n",
              "      </script>\n",
              "    </div>\n",
              "  </div>\n",
              "  "
            ]
          },
          "metadata": {},
          "execution_count": 6
        }
      ]
    },
    {
      "cell_type": "code",
      "source": [
        "cutlets.info()"
      ],
      "metadata": {
        "colab": {
          "base_uri": "https://localhost:8080/"
        },
        "id": "uBaai63vlgIj",
        "outputId": "2fc0fb50-d438-4dd1-feba-a387033912b9"
      },
      "execution_count": null,
      "outputs": [
        {
          "output_type": "stream",
          "name": "stdout",
          "text": [
            "<class 'pandas.core.frame.DataFrame'>\n",
            "RangeIndex: 35 entries, 0 to 34\n",
            "Data columns (total 2 columns):\n",
            " #   Column  Non-Null Count  Dtype  \n",
            "---  ------  --------------  -----  \n",
            " 0   Unit A  35 non-null     float64\n",
            " 1   Unit B  35 non-null     float64\n",
            "dtypes: float64(2)\n",
            "memory usage: 688.0 bytes\n"
          ]
        }
      ]
    },
    {
      "cell_type": "code",
      "source": [
        "cutlets.dtypes"
      ],
      "metadata": {
        "colab": {
          "base_uri": "https://localhost:8080/"
        },
        "id": "ms_xXRitlneJ",
        "outputId": "9d2b9d7c-9453-4a96-86ed-795cae93da45"
      },
      "execution_count": null,
      "outputs": [
        {
          "output_type": "execute_result",
          "data": {
            "text/plain": [
              "Unit A    float64\n",
              "Unit B    float64\n",
              "dtype: object"
            ]
          },
          "metadata": {},
          "execution_count": 8
        }
      ]
    },
    {
      "cell_type": "code",
      "source": [
        "cutlets.isnull().sum()"
      ],
      "metadata": {
        "colab": {
          "base_uri": "https://localhost:8080/"
        },
        "id": "NTXuSIMolrDL",
        "outputId": "5616c215-9e30-4e3c-e5a2-fc7a59f96438"
      },
      "execution_count": null,
      "outputs": [
        {
          "output_type": "execute_result",
          "data": {
            "text/plain": [
              "Unit A    0\n",
              "Unit B    0\n",
              "dtype: int64"
            ]
          },
          "metadata": {},
          "execution_count": 9
        }
      ]
    },
    {
      "cell_type": "code",
      "source": [
        "unitA=pd.Series(cutlets.iloc[:,0])\n",
        "unitA.head()"
      ],
      "metadata": {
        "colab": {
          "base_uri": "https://localhost:8080/"
        },
        "id": "62FtJu_Wjew8",
        "outputId": "1e6f2fd0-6cc0-4f46-8420-cef1a6c23090"
      },
      "execution_count": null,
      "outputs": [
        {
          "output_type": "execute_result",
          "data": {
            "text/plain": [
              "0    6.8090\n",
              "1    6.4376\n",
              "2    6.9157\n",
              "3    7.3012\n",
              "4    7.4488\n",
              "Name: Unit A, dtype: float64"
            ]
          },
          "metadata": {},
          "execution_count": 10
        }
      ]
    },
    {
      "cell_type": "code",
      "source": [
        "unitB=pd.Series(cutlets.iloc[:,1])\n",
        "unitB.head()"
      ],
      "metadata": {
        "colab": {
          "base_uri": "https://localhost:8080/"
        },
        "id": "d6soejBZjqL6",
        "outputId": "62d224c4-a544-4238-b663-8f2cb8eeaa45"
      },
      "execution_count": null,
      "outputs": [
        {
          "output_type": "execute_result",
          "data": {
            "text/plain": [
              "0    6.7703\n",
              "1    7.5093\n",
              "2    6.7300\n",
              "3    6.7878\n",
              "4    7.1522\n",
              "Name: Unit B, dtype: float64"
            ]
          },
          "metadata": {},
          "execution_count": 11
        }
      ]
    },
    {
      "cell_type": "code",
      "source": [
        "ttets_value=stats.ttest_ind(unitA,unitB)\n",
        "ttets_value"
      ],
      "metadata": {
        "colab": {
          "base_uri": "https://localhost:8080/"
        },
        "id": "V62CiL9Mffbq",
        "outputId": "4f8d5d46-1a1c-494f-840c-a4803d2b9e15"
      },
      "execution_count": null,
      "outputs": [
        {
          "output_type": "execute_result",
          "data": {
            "text/plain": [
              "Ttest_indResult(statistic=0.7228688704678063, pvalue=0.4722394724599501)"
            ]
          },
          "metadata": {},
          "execution_count": 12
        }
      ]
    },
    {
      "cell_type": "code",
      "source": [
        "α2= 0.05/2 \n",
        "p_value=ttets_value=stats.ttest_ind(unitA,unitB)[1]\n",
        "print('p value is : ', round(p_value,4))"
      ],
      "metadata": {
        "colab": {
          "base_uri": "https://localhost:8080/"
        },
        "id": "zAV6IyIbkNq-",
        "outputId": "9f15b221-2ee5-4564-bbd9-599fc06cec7b"
      },
      "execution_count": null,
      "outputs": [
        {
          "output_type": "stream",
          "name": "stdout",
          "text": [
            "p value is :  0.4722\n"
          ]
        }
      ]
    },
    {
      "cell_type": "code",
      "source": [
        "if p_value <= α2:\n",
        "    print('We reject Null Hypothesis ',\n",
        "          '\\n\\n ∴ There is significance difference in the diameter of the cutlet  between  two units A and unit B')\n",
        "else:\n",
        "    print('We fail to reject Null hypothesis' ,\n",
        "          '\\n\\n ∴ There is no significance difference in the diameter of the cutlet  between  two units A and unit B ')"
      ],
      "metadata": {
        "colab": {
          "base_uri": "https://localhost:8080/"
        },
        "id": "EuE4cPDIkWeN",
        "outputId": "d41df0cd-c03d-4957-ee0c-b1607739ccf9"
      },
      "execution_count": null,
      "outputs": [
        {
          "output_type": "stream",
          "name": "stdout",
          "text": [
            "We fail to reject Null hypothesis \n",
            "\n",
            " ∴ There is no significance difference in the diameter of the cutlet  between  two units A and unit B \n"
          ]
        }
      ]
    },
    {
      "cell_type": "markdown",
      "source": [
        "\n",
        "\n",
        "---\n",
        "\n"
      ],
      "metadata": {
        "id": "EJJgUt8i9Tf7"
      }
    },
    {
      "cell_type": "markdown",
      "source": [
        "**Question-2)**\n",
        "\n",
        " **A hospital wants to determine whether there is any difference in the average Turn Around Time (TAT) of reports of the laboratories on their preferred list. They collected a random sample and recorded TAT for reports of 4 laboratories. TAT is defined as sample collected to report dispatch.**\n",
        "\n",
        " **Analyze the data and determine whether there is any difference in average TAT among the different laboratories at 5% significance level.**\n",
        "\n",
        " **Minitab File: LabTAT.mtw**\n"
      ],
      "metadata": {
        "id": "AoW5nq0C_TKy"
      }
    },
    {
      "cell_type": "markdown",
      "source": [
        "Ans: **There is a significance difference in average TAT among the different laboratories at 5% significance level**\n",
        "\n",
        "\n",
        "Explanation:\n",
        "\n",
        "We need to check whether there is any difference in average TAT among the different laboratories at 5% significance level.\n",
        "\n",
        "**Test :**  ANOVA Test \n",
        "\n",
        "**Hypothesis:**\n",
        "\n",
        "Null Hypothesis H0 :  μ1 = μ2 = μ3 = μ4\n",
        "\n",
        "Alternative Hypthosis HA: Atleast One of them is Differente\n",
        "Decide a cut-off value\n",
        "\n",
        "**Significance:**\n",
        "\n",
        "alpha = 5%=0.05\n",
        "\n",
        "**Comparision & conclusion:**\n",
        "\n",
        "p_value with 'α' \n",
        "\n",
        "If p_value > 'α' we failed to reject Null Hypothesis because of lack of evidence\n",
        "\n",
        "If p_value is < 'α' we reject Null Hypothesis"
      ],
      "metadata": {
        "id": "AOfWVw3aGQGN"
      }
    },
    {
      "cell_type": "code",
      "source": [
        "from google.colab import files\n",
        "uploaded=files.upload()"
      ],
      "metadata": {
        "colab": {
          "base_uri": "https://localhost:8080/",
          "height": 73
        },
        "id": "lYAKQSP580YY",
        "outputId": "dff6f2a0-72de-4c90-ea3b-f00743921e05"
      },
      "execution_count": null,
      "outputs": [
        {
          "output_type": "display_data",
          "data": {
            "text/plain": [
              "<IPython.core.display.HTML object>"
            ],
            "text/html": [
              "\n",
              "     <input type=\"file\" id=\"files-8449ea25-5021-4263-9f5b-a34d6a9b6524\" name=\"files[]\" multiple disabled\n",
              "        style=\"border:none\" />\n",
              "     <output id=\"result-8449ea25-5021-4263-9f5b-a34d6a9b6524\">\n",
              "      Upload widget is only available when the cell has been executed in the\n",
              "      current browser session. Please rerun this cell to enable.\n",
              "      </output>\n",
              "      <script>// Copyright 2017 Google LLC\n",
              "//\n",
              "// Licensed under the Apache License, Version 2.0 (the \"License\");\n",
              "// you may not use this file except in compliance with the License.\n",
              "// You may obtain a copy of the License at\n",
              "//\n",
              "//      http://www.apache.org/licenses/LICENSE-2.0\n",
              "//\n",
              "// Unless required by applicable law or agreed to in writing, software\n",
              "// distributed under the License is distributed on an \"AS IS\" BASIS,\n",
              "// WITHOUT WARRANTIES OR CONDITIONS OF ANY KIND, either express or implied.\n",
              "// See the License for the specific language governing permissions and\n",
              "// limitations under the License.\n",
              "\n",
              "/**\n",
              " * @fileoverview Helpers for google.colab Python module.\n",
              " */\n",
              "(function(scope) {\n",
              "function span(text, styleAttributes = {}) {\n",
              "  const element = document.createElement('span');\n",
              "  element.textContent = text;\n",
              "  for (const key of Object.keys(styleAttributes)) {\n",
              "    element.style[key] = styleAttributes[key];\n",
              "  }\n",
              "  return element;\n",
              "}\n",
              "\n",
              "// Max number of bytes which will be uploaded at a time.\n",
              "const MAX_PAYLOAD_SIZE = 100 * 1024;\n",
              "\n",
              "function _uploadFiles(inputId, outputId) {\n",
              "  const steps = uploadFilesStep(inputId, outputId);\n",
              "  const outputElement = document.getElementById(outputId);\n",
              "  // Cache steps on the outputElement to make it available for the next call\n",
              "  // to uploadFilesContinue from Python.\n",
              "  outputElement.steps = steps;\n",
              "\n",
              "  return _uploadFilesContinue(outputId);\n",
              "}\n",
              "\n",
              "// This is roughly an async generator (not supported in the browser yet),\n",
              "// where there are multiple asynchronous steps and the Python side is going\n",
              "// to poll for completion of each step.\n",
              "// This uses a Promise to block the python side on completion of each step,\n",
              "// then passes the result of the previous step as the input to the next step.\n",
              "function _uploadFilesContinue(outputId) {\n",
              "  const outputElement = document.getElementById(outputId);\n",
              "  const steps = outputElement.steps;\n",
              "\n",
              "  const next = steps.next(outputElement.lastPromiseValue);\n",
              "  return Promise.resolve(next.value.promise).then((value) => {\n",
              "    // Cache the last promise value to make it available to the next\n",
              "    // step of the generator.\n",
              "    outputElement.lastPromiseValue = value;\n",
              "    return next.value.response;\n",
              "  });\n",
              "}\n",
              "\n",
              "/**\n",
              " * Generator function which is called between each async step of the upload\n",
              " * process.\n",
              " * @param {string} inputId Element ID of the input file picker element.\n",
              " * @param {string} outputId Element ID of the output display.\n",
              " * @return {!Iterable<!Object>} Iterable of next steps.\n",
              " */\n",
              "function* uploadFilesStep(inputId, outputId) {\n",
              "  const inputElement = document.getElementById(inputId);\n",
              "  inputElement.disabled = false;\n",
              "\n",
              "  const outputElement = document.getElementById(outputId);\n",
              "  outputElement.innerHTML = '';\n",
              "\n",
              "  const pickedPromise = new Promise((resolve) => {\n",
              "    inputElement.addEventListener('change', (e) => {\n",
              "      resolve(e.target.files);\n",
              "    });\n",
              "  });\n",
              "\n",
              "  const cancel = document.createElement('button');\n",
              "  inputElement.parentElement.appendChild(cancel);\n",
              "  cancel.textContent = 'Cancel upload';\n",
              "  const cancelPromise = new Promise((resolve) => {\n",
              "    cancel.onclick = () => {\n",
              "      resolve(null);\n",
              "    };\n",
              "  });\n",
              "\n",
              "  // Wait for the user to pick the files.\n",
              "  const files = yield {\n",
              "    promise: Promise.race([pickedPromise, cancelPromise]),\n",
              "    response: {\n",
              "      action: 'starting',\n",
              "    }\n",
              "  };\n",
              "\n",
              "  cancel.remove();\n",
              "\n",
              "  // Disable the input element since further picks are not allowed.\n",
              "  inputElement.disabled = true;\n",
              "\n",
              "  if (!files) {\n",
              "    return {\n",
              "      response: {\n",
              "        action: 'complete',\n",
              "      }\n",
              "    };\n",
              "  }\n",
              "\n",
              "  for (const file of files) {\n",
              "    const li = document.createElement('li');\n",
              "    li.append(span(file.name, {fontWeight: 'bold'}));\n",
              "    li.append(span(\n",
              "        `(${file.type || 'n/a'}) - ${file.size} bytes, ` +\n",
              "        `last modified: ${\n",
              "            file.lastModifiedDate ? file.lastModifiedDate.toLocaleDateString() :\n",
              "                                    'n/a'} - `));\n",
              "    const percent = span('0% done');\n",
              "    li.appendChild(percent);\n",
              "\n",
              "    outputElement.appendChild(li);\n",
              "\n",
              "    const fileDataPromise = new Promise((resolve) => {\n",
              "      const reader = new FileReader();\n",
              "      reader.onload = (e) => {\n",
              "        resolve(e.target.result);\n",
              "      };\n",
              "      reader.readAsArrayBuffer(file);\n",
              "    });\n",
              "    // Wait for the data to be ready.\n",
              "    let fileData = yield {\n",
              "      promise: fileDataPromise,\n",
              "      response: {\n",
              "        action: 'continue',\n",
              "      }\n",
              "    };\n",
              "\n",
              "    // Use a chunked sending to avoid message size limits. See b/62115660.\n",
              "    let position = 0;\n",
              "    do {\n",
              "      const length = Math.min(fileData.byteLength - position, MAX_PAYLOAD_SIZE);\n",
              "      const chunk = new Uint8Array(fileData, position, length);\n",
              "      position += length;\n",
              "\n",
              "      const base64 = btoa(String.fromCharCode.apply(null, chunk));\n",
              "      yield {\n",
              "        response: {\n",
              "          action: 'append',\n",
              "          file: file.name,\n",
              "          data: base64,\n",
              "        },\n",
              "      };\n",
              "\n",
              "      let percentDone = fileData.byteLength === 0 ?\n",
              "          100 :\n",
              "          Math.round((position / fileData.byteLength) * 100);\n",
              "      percent.textContent = `${percentDone}% done`;\n",
              "\n",
              "    } while (position < fileData.byteLength);\n",
              "  }\n",
              "\n",
              "  // All done.\n",
              "  yield {\n",
              "    response: {\n",
              "      action: 'complete',\n",
              "    }\n",
              "  };\n",
              "}\n",
              "\n",
              "scope.google = scope.google || {};\n",
              "scope.google.colab = scope.google.colab || {};\n",
              "scope.google.colab._files = {\n",
              "  _uploadFiles,\n",
              "  _uploadFilesContinue,\n",
              "};\n",
              "})(self);\n",
              "</script> "
            ]
          },
          "metadata": {}
        },
        {
          "output_type": "stream",
          "name": "stdout",
          "text": [
            "Saving LabTAT.csv to LabTAT.csv\n"
          ]
        }
      ]
    },
    {
      "cell_type": "code",
      "source": [
        "labtat=pd.read_csv('LabTAT.csv')\n",
        "labtat.head()"
      ],
      "metadata": {
        "colab": {
          "base_uri": "https://localhost:8080/",
          "height": 206
        },
        "id": "0rGZft1sAOPl",
        "outputId": "7e5489c1-26e4-4215-95fd-4454b49655ba"
      },
      "execution_count": null,
      "outputs": [
        {
          "output_type": "execute_result",
          "data": {
            "text/plain": [
              "   Laboratory 1  Laboratory 2  Laboratory 3  Laboratory 4\n",
              "0        185.35        165.53        176.70        166.13\n",
              "1        170.49        185.91        198.45        160.79\n",
              "2        192.77        194.92        201.23        185.18\n",
              "3        177.33        183.00        199.61        176.42\n",
              "4        193.41        169.57        204.63        152.60"
            ],
            "text/html": [
              "\n",
              "  <div id=\"df-18fafd49-9965-43e4-bca4-643513ad7a2b\">\n",
              "    <div class=\"colab-df-container\">\n",
              "      <div>\n",
              "<style scoped>\n",
              "    .dataframe tbody tr th:only-of-type {\n",
              "        vertical-align: middle;\n",
              "    }\n",
              "\n",
              "    .dataframe tbody tr th {\n",
              "        vertical-align: top;\n",
              "    }\n",
              "\n",
              "    .dataframe thead th {\n",
              "        text-align: right;\n",
              "    }\n",
              "</style>\n",
              "<table border=\"1\" class=\"dataframe\">\n",
              "  <thead>\n",
              "    <tr style=\"text-align: right;\">\n",
              "      <th></th>\n",
              "      <th>Laboratory 1</th>\n",
              "      <th>Laboratory 2</th>\n",
              "      <th>Laboratory 3</th>\n",
              "      <th>Laboratory 4</th>\n",
              "    </tr>\n",
              "  </thead>\n",
              "  <tbody>\n",
              "    <tr>\n",
              "      <th>0</th>\n",
              "      <td>185.35</td>\n",
              "      <td>165.53</td>\n",
              "      <td>176.70</td>\n",
              "      <td>166.13</td>\n",
              "    </tr>\n",
              "    <tr>\n",
              "      <th>1</th>\n",
              "      <td>170.49</td>\n",
              "      <td>185.91</td>\n",
              "      <td>198.45</td>\n",
              "      <td>160.79</td>\n",
              "    </tr>\n",
              "    <tr>\n",
              "      <th>2</th>\n",
              "      <td>192.77</td>\n",
              "      <td>194.92</td>\n",
              "      <td>201.23</td>\n",
              "      <td>185.18</td>\n",
              "    </tr>\n",
              "    <tr>\n",
              "      <th>3</th>\n",
              "      <td>177.33</td>\n",
              "      <td>183.00</td>\n",
              "      <td>199.61</td>\n",
              "      <td>176.42</td>\n",
              "    </tr>\n",
              "    <tr>\n",
              "      <th>4</th>\n",
              "      <td>193.41</td>\n",
              "      <td>169.57</td>\n",
              "      <td>204.63</td>\n",
              "      <td>152.60</td>\n",
              "    </tr>\n",
              "  </tbody>\n",
              "</table>\n",
              "</div>\n",
              "      <button class=\"colab-df-convert\" onclick=\"convertToInteractive('df-18fafd49-9965-43e4-bca4-643513ad7a2b')\"\n",
              "              title=\"Convert this dataframe to an interactive table.\"\n",
              "              style=\"display:none;\">\n",
              "        \n",
              "  <svg xmlns=\"http://www.w3.org/2000/svg\" height=\"24px\"viewBox=\"0 0 24 24\"\n",
              "       width=\"24px\">\n",
              "    <path d=\"M0 0h24v24H0V0z\" fill=\"none\"/>\n",
              "    <path d=\"M18.56 5.44l.94 2.06.94-2.06 2.06-.94-2.06-.94-.94-2.06-.94 2.06-2.06.94zm-11 1L8.5 8.5l.94-2.06 2.06-.94-2.06-.94L8.5 2.5l-.94 2.06-2.06.94zm10 10l.94 2.06.94-2.06 2.06-.94-2.06-.94-.94-2.06-.94 2.06-2.06.94z\"/><path d=\"M17.41 7.96l-1.37-1.37c-.4-.4-.92-.59-1.43-.59-.52 0-1.04.2-1.43.59L10.3 9.45l-7.72 7.72c-.78.78-.78 2.05 0 2.83L4 21.41c.39.39.9.59 1.41.59.51 0 1.02-.2 1.41-.59l7.78-7.78 2.81-2.81c.8-.78.8-2.07 0-2.86zM5.41 20L4 18.59l7.72-7.72 1.47 1.35L5.41 20z\"/>\n",
              "  </svg>\n",
              "      </button>\n",
              "      \n",
              "  <style>\n",
              "    .colab-df-container {\n",
              "      display:flex;\n",
              "      flex-wrap:wrap;\n",
              "      gap: 12px;\n",
              "    }\n",
              "\n",
              "    .colab-df-convert {\n",
              "      background-color: #E8F0FE;\n",
              "      border: none;\n",
              "      border-radius: 50%;\n",
              "      cursor: pointer;\n",
              "      display: none;\n",
              "      fill: #1967D2;\n",
              "      height: 32px;\n",
              "      padding: 0 0 0 0;\n",
              "      width: 32px;\n",
              "    }\n",
              "\n",
              "    .colab-df-convert:hover {\n",
              "      background-color: #E2EBFA;\n",
              "      box-shadow: 0px 1px 2px rgba(60, 64, 67, 0.3), 0px 1px 3px 1px rgba(60, 64, 67, 0.15);\n",
              "      fill: #174EA6;\n",
              "    }\n",
              "\n",
              "    [theme=dark] .colab-df-convert {\n",
              "      background-color: #3B4455;\n",
              "      fill: #D2E3FC;\n",
              "    }\n",
              "\n",
              "    [theme=dark] .colab-df-convert:hover {\n",
              "      background-color: #434B5C;\n",
              "      box-shadow: 0px 1px 3px 1px rgba(0, 0, 0, 0.15);\n",
              "      filter: drop-shadow(0px 1px 2px rgba(0, 0, 0, 0.3));\n",
              "      fill: #FFFFFF;\n",
              "    }\n",
              "  </style>\n",
              "\n",
              "      <script>\n",
              "        const buttonEl =\n",
              "          document.querySelector('#df-18fafd49-9965-43e4-bca4-643513ad7a2b button.colab-df-convert');\n",
              "        buttonEl.style.display =\n",
              "          google.colab.kernel.accessAllowed ? 'block' : 'none';\n",
              "\n",
              "        async function convertToInteractive(key) {\n",
              "          const element = document.querySelector('#df-18fafd49-9965-43e4-bca4-643513ad7a2b');\n",
              "          const dataTable =\n",
              "            await google.colab.kernel.invokeFunction('convertToInteractive',\n",
              "                                                     [key], {});\n",
              "          if (!dataTable) return;\n",
              "\n",
              "          const docLinkHtml = 'Like what you see? Visit the ' +\n",
              "            '<a target=\"_blank\" href=https://colab.research.google.com/notebooks/data_table.ipynb>data table notebook</a>'\n",
              "            + ' to learn more about interactive tables.';\n",
              "          element.innerHTML = '';\n",
              "          dataTable['output_type'] = 'display_data';\n",
              "          await google.colab.output.renderOutput(dataTable, element);\n",
              "          const docLink = document.createElement('div');\n",
              "          docLink.innerHTML = docLinkHtml;\n",
              "          element.appendChild(docLink);\n",
              "        }\n",
              "      </script>\n",
              "    </div>\n",
              "  </div>\n",
              "  "
            ]
          },
          "metadata": {},
          "execution_count": 28
        }
      ]
    },
    {
      "cell_type": "code",
      "source": [
        "labtat.info()"
      ],
      "metadata": {
        "colab": {
          "base_uri": "https://localhost:8080/"
        },
        "id": "_3obMgqAEQKd",
        "outputId": "0e9a41d5-6612-49f7-fdd3-a024a8e57739"
      },
      "execution_count": null,
      "outputs": [
        {
          "output_type": "stream",
          "name": "stdout",
          "text": [
            "<class 'pandas.core.frame.DataFrame'>\n",
            "RangeIndex: 120 entries, 0 to 119\n",
            "Data columns (total 4 columns):\n",
            " #   Column        Non-Null Count  Dtype  \n",
            "---  ------        --------------  -----  \n",
            " 0   Laboratory 1  120 non-null    float64\n",
            " 1   Laboratory 2  120 non-null    float64\n",
            " 2   Laboratory 3  120 non-null    float64\n",
            " 3   Laboratory 4  120 non-null    float64\n",
            "dtypes: float64(4)\n",
            "memory usage: 3.9 KB\n"
          ]
        }
      ]
    },
    {
      "cell_type": "code",
      "source": [
        "labtat.dtypes"
      ],
      "metadata": {
        "colab": {
          "base_uri": "https://localhost:8080/"
        },
        "id": "qXn2JR-rEWXL",
        "outputId": "0d06cb49-a6d8-4a06-f2cd-656c4a4bb3e9"
      },
      "execution_count": null,
      "outputs": [
        {
          "output_type": "execute_result",
          "data": {
            "text/plain": [
              "Laboratory 1    float64\n",
              "Laboratory 2    float64\n",
              "Laboratory 3    float64\n",
              "Laboratory 4    float64\n",
              "dtype: object"
            ]
          },
          "metadata": {},
          "execution_count": 30
        }
      ]
    },
    {
      "cell_type": "code",
      "source": [
        "labtat.describe()"
      ],
      "metadata": {
        "colab": {
          "base_uri": "https://localhost:8080/",
          "height": 300
        },
        "id": "T_Y48KSTEaHS",
        "outputId": "693be1b9-0237-4cc3-9f22-8a91e06215e8"
      },
      "execution_count": null,
      "outputs": [
        {
          "output_type": "execute_result",
          "data": {
            "text/plain": [
              "       Laboratory 1  Laboratory 2  Laboratory 3  Laboratory 4\n",
              "count    120.000000    120.000000    120.000000     120.00000\n",
              "mean     178.361583    178.902917    199.913250     163.68275\n",
              "std       13.173594     14.957114     16.539033      15.08508\n",
              "min      138.300000    140.550000    159.690000     124.06000\n",
              "25%      170.335000    168.025000    188.232500     154.05000\n",
              "50%      178.530000    178.870000    199.805000     164.42500\n",
              "75%      186.535000    189.112500    211.332500     172.88250\n",
              "max      216.390000    217.860000    238.700000     205.18000"
            ],
            "text/html": [
              "\n",
              "  <div id=\"df-22846305-797a-431c-8b0d-fdba432520c5\">\n",
              "    <div class=\"colab-df-container\">\n",
              "      <div>\n",
              "<style scoped>\n",
              "    .dataframe tbody tr th:only-of-type {\n",
              "        vertical-align: middle;\n",
              "    }\n",
              "\n",
              "    .dataframe tbody tr th {\n",
              "        vertical-align: top;\n",
              "    }\n",
              "\n",
              "    .dataframe thead th {\n",
              "        text-align: right;\n",
              "    }\n",
              "</style>\n",
              "<table border=\"1\" class=\"dataframe\">\n",
              "  <thead>\n",
              "    <tr style=\"text-align: right;\">\n",
              "      <th></th>\n",
              "      <th>Laboratory 1</th>\n",
              "      <th>Laboratory 2</th>\n",
              "      <th>Laboratory 3</th>\n",
              "      <th>Laboratory 4</th>\n",
              "    </tr>\n",
              "  </thead>\n",
              "  <tbody>\n",
              "    <tr>\n",
              "      <th>count</th>\n",
              "      <td>120.000000</td>\n",
              "      <td>120.000000</td>\n",
              "      <td>120.000000</td>\n",
              "      <td>120.00000</td>\n",
              "    </tr>\n",
              "    <tr>\n",
              "      <th>mean</th>\n",
              "      <td>178.361583</td>\n",
              "      <td>178.902917</td>\n",
              "      <td>199.913250</td>\n",
              "      <td>163.68275</td>\n",
              "    </tr>\n",
              "    <tr>\n",
              "      <th>std</th>\n",
              "      <td>13.173594</td>\n",
              "      <td>14.957114</td>\n",
              "      <td>16.539033</td>\n",
              "      <td>15.08508</td>\n",
              "    </tr>\n",
              "    <tr>\n",
              "      <th>min</th>\n",
              "      <td>138.300000</td>\n",
              "      <td>140.550000</td>\n",
              "      <td>159.690000</td>\n",
              "      <td>124.06000</td>\n",
              "    </tr>\n",
              "    <tr>\n",
              "      <th>25%</th>\n",
              "      <td>170.335000</td>\n",
              "      <td>168.025000</td>\n",
              "      <td>188.232500</td>\n",
              "      <td>154.05000</td>\n",
              "    </tr>\n",
              "    <tr>\n",
              "      <th>50%</th>\n",
              "      <td>178.530000</td>\n",
              "      <td>178.870000</td>\n",
              "      <td>199.805000</td>\n",
              "      <td>164.42500</td>\n",
              "    </tr>\n",
              "    <tr>\n",
              "      <th>75%</th>\n",
              "      <td>186.535000</td>\n",
              "      <td>189.112500</td>\n",
              "      <td>211.332500</td>\n",
              "      <td>172.88250</td>\n",
              "    </tr>\n",
              "    <tr>\n",
              "      <th>max</th>\n",
              "      <td>216.390000</td>\n",
              "      <td>217.860000</td>\n",
              "      <td>238.700000</td>\n",
              "      <td>205.18000</td>\n",
              "    </tr>\n",
              "  </tbody>\n",
              "</table>\n",
              "</div>\n",
              "      <button class=\"colab-df-convert\" onclick=\"convertToInteractive('df-22846305-797a-431c-8b0d-fdba432520c5')\"\n",
              "              title=\"Convert this dataframe to an interactive table.\"\n",
              "              style=\"display:none;\">\n",
              "        \n",
              "  <svg xmlns=\"http://www.w3.org/2000/svg\" height=\"24px\"viewBox=\"0 0 24 24\"\n",
              "       width=\"24px\">\n",
              "    <path d=\"M0 0h24v24H0V0z\" fill=\"none\"/>\n",
              "    <path d=\"M18.56 5.44l.94 2.06.94-2.06 2.06-.94-2.06-.94-.94-2.06-.94 2.06-2.06.94zm-11 1L8.5 8.5l.94-2.06 2.06-.94-2.06-.94L8.5 2.5l-.94 2.06-2.06.94zm10 10l.94 2.06.94-2.06 2.06-.94-2.06-.94-.94-2.06-.94 2.06-2.06.94z\"/><path d=\"M17.41 7.96l-1.37-1.37c-.4-.4-.92-.59-1.43-.59-.52 0-1.04.2-1.43.59L10.3 9.45l-7.72 7.72c-.78.78-.78 2.05 0 2.83L4 21.41c.39.39.9.59 1.41.59.51 0 1.02-.2 1.41-.59l7.78-7.78 2.81-2.81c.8-.78.8-2.07 0-2.86zM5.41 20L4 18.59l7.72-7.72 1.47 1.35L5.41 20z\"/>\n",
              "  </svg>\n",
              "      </button>\n",
              "      \n",
              "  <style>\n",
              "    .colab-df-container {\n",
              "      display:flex;\n",
              "      flex-wrap:wrap;\n",
              "      gap: 12px;\n",
              "    }\n",
              "\n",
              "    .colab-df-convert {\n",
              "      background-color: #E8F0FE;\n",
              "      border: none;\n",
              "      border-radius: 50%;\n",
              "      cursor: pointer;\n",
              "      display: none;\n",
              "      fill: #1967D2;\n",
              "      height: 32px;\n",
              "      padding: 0 0 0 0;\n",
              "      width: 32px;\n",
              "    }\n",
              "\n",
              "    .colab-df-convert:hover {\n",
              "      background-color: #E2EBFA;\n",
              "      box-shadow: 0px 1px 2px rgba(60, 64, 67, 0.3), 0px 1px 3px 1px rgba(60, 64, 67, 0.15);\n",
              "      fill: #174EA6;\n",
              "    }\n",
              "\n",
              "    [theme=dark] .colab-df-convert {\n",
              "      background-color: #3B4455;\n",
              "      fill: #D2E3FC;\n",
              "    }\n",
              "\n",
              "    [theme=dark] .colab-df-convert:hover {\n",
              "      background-color: #434B5C;\n",
              "      box-shadow: 0px 1px 3px 1px rgba(0, 0, 0, 0.15);\n",
              "      filter: drop-shadow(0px 1px 2px rgba(0, 0, 0, 0.3));\n",
              "      fill: #FFFFFF;\n",
              "    }\n",
              "  </style>\n",
              "\n",
              "      <script>\n",
              "        const buttonEl =\n",
              "          document.querySelector('#df-22846305-797a-431c-8b0d-fdba432520c5 button.colab-df-convert');\n",
              "        buttonEl.style.display =\n",
              "          google.colab.kernel.accessAllowed ? 'block' : 'none';\n",
              "\n",
              "        async function convertToInteractive(key) {\n",
              "          const element = document.querySelector('#df-22846305-797a-431c-8b0d-fdba432520c5');\n",
              "          const dataTable =\n",
              "            await google.colab.kernel.invokeFunction('convertToInteractive',\n",
              "                                                     [key], {});\n",
              "          if (!dataTable) return;\n",
              "\n",
              "          const docLinkHtml = 'Like what you see? Visit the ' +\n",
              "            '<a target=\"_blank\" href=https://colab.research.google.com/notebooks/data_table.ipynb>data table notebook</a>'\n",
              "            + ' to learn more about interactive tables.';\n",
              "          element.innerHTML = '';\n",
              "          dataTable['output_type'] = 'display_data';\n",
              "          await google.colab.output.renderOutput(dataTable, element);\n",
              "          const docLink = document.createElement('div');\n",
              "          docLink.innerHTML = docLinkHtml;\n",
              "          element.appendChild(docLink);\n",
              "        }\n",
              "      </script>\n",
              "    </div>\n",
              "  </div>\n",
              "  "
            ]
          },
          "metadata": {},
          "execution_count": 31
        }
      ]
    },
    {
      "cell_type": "code",
      "source": [
        "labtat.isnull().sum()"
      ],
      "metadata": {
        "colab": {
          "base_uri": "https://localhost:8080/"
        },
        "id": "TLjmCuXGEd67",
        "outputId": "50128f9f-bc64-4162-9275-bb55a857b735"
      },
      "execution_count": null,
      "outputs": [
        {
          "output_type": "execute_result",
          "data": {
            "text/plain": [
              "Laboratory 1    0\n",
              "Laboratory 2    0\n",
              "Laboratory 3    0\n",
              "Laboratory 4    0\n",
              "dtype: int64"
            ]
          },
          "metadata": {},
          "execution_count": 32
        }
      ]
    },
    {
      "cell_type": "code",
      "source": [
        "# Test\n",
        "\n",
        "test_statistic , p_value = stats.f_oneway(labtat.iloc[:,0],labtat.iloc[:,1],labtat.iloc[:,2],labtat.iloc[:,3])\n",
        "print('p_value =',p_value)"
      ],
      "metadata": {
        "colab": {
          "base_uri": "https://localhost:8080/"
        },
        "id": "B1IPar3VGCM-",
        "outputId": "74adf142-89aa-4141-f6ed-c92bc0c5be37"
      },
      "execution_count": null,
      "outputs": [
        {
          "output_type": "stream",
          "name": "stdout",
          "text": [
            "p_value = 2.1156708949992414e-57\n"
          ]
        }
      ]
    },
    {
      "cell_type": "code",
      "source": [
        "# comparing p with alpha\n",
        "\n",
        "alpha = 0.05\n",
        "print('Significnace=%.3f, p=%.3f' % (alpha, p_value))\n",
        "if p_value <= alpha:\n",
        "    print('\\n We reject Null Hypothesis ',\n",
        "          '\\n\\n ∴There is a significance difference in average TAT among the different laboratories at 5% significance level')\n",
        "else:\n",
        "    print('\\n We fail to reject Null hypothesis',\n",
        "          '\\n\\n ∴There is no significance difference in average TAT among the different laboratories at 5% significance level')"
      ],
      "metadata": {
        "colab": {
          "base_uri": "https://localhost:8080/"
        },
        "id": "RAsrKeMQKAjf",
        "outputId": "c09aac76-df96-43b1-a842-046964f3de89"
      },
      "execution_count": null,
      "outputs": [
        {
          "output_type": "stream",
          "name": "stdout",
          "text": [
            "Significnace=0.050, p=0.000\n",
            "\n",
            " We reject Null Hypothesis  \n",
            "\n",
            " ∴There is a significance difference in average TAT among the different laboratories at 5% significance level\n"
          ]
        }
      ]
    },
    {
      "cell_type": "markdown",
      "source": [
        "\n",
        "\n",
        "---\n",
        "\n"
      ],
      "metadata": {
        "id": "XCfBMLpkP9Eh"
      }
    },
    {
      "cell_type": "markdown",
      "source": [
        "**Question-3)**\n",
        "\n",
        "**Sales of products in four different regions is tabulated for males and females. Find if male-female buyer rations are similar across regions**\n",
        "\n",
        "![image.png](data:image/png;base64,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)"
      ],
      "metadata": {
        "id": "HCZSTZzXQMHD"
      }
    },
    {
      "cell_type": "markdown",
      "source": [
        "Ans: **There is no association or dependency between the gender based buyer rations across regions**\n",
        "\n",
        "\n",
        "Explanation:\n",
        "\n",
        "we check whether the male-female buyer rations are similar across regions or not.\n",
        "\n",
        "**Test :** Chi-Square test\n",
        "\n",
        "\n",
        "**Hypothesis:**\n",
        "\n",
        "Null Hypothesis:\n",
        "\n",
        "There is no association or dependency between the gender based buyer rations across regions\n",
        "\n",
        "Alternative Hypthosis:\n",
        "\n",
        "There is a significant association or dependency between the gender based buyer rations across regions\n",
        "\n",
        "**Significance:**\n",
        "alpha α = 5% = 0.05\n",
        "\n",
        "**Comparision & conclusion:**\n",
        "\n",
        "p_value with 'α'\n",
        "\n",
        "If p_value > 'α' we failed to reject Null Hypothesis because of lack of evidence\n",
        "\n",
        "If p_value is < 'α' we reject Null Hypothesis"
      ],
      "metadata": {
        "id": "APxxlGmyRBIF"
      }
    },
    {
      "cell_type": "code",
      "source": [
        "from google.colab import files\n",
        "uploaded=files.upload()"
      ],
      "metadata": {
        "colab": {
          "base_uri": "https://localhost:8080/",
          "height": 73
        },
        "id": "zaBZ4pPMLS6g",
        "outputId": "40870d3a-d2ca-49e0-c7b1-097ddd353320"
      },
      "execution_count": null,
      "outputs": [
        {
          "output_type": "display_data",
          "data": {
            "text/plain": [
              "<IPython.core.display.HTML object>"
            ],
            "text/html": [
              "\n",
              "     <input type=\"file\" id=\"files-8993d43b-bd42-4211-a276-f4588beaf338\" name=\"files[]\" multiple disabled\n",
              "        style=\"border:none\" />\n",
              "     <output id=\"result-8993d43b-bd42-4211-a276-f4588beaf338\">\n",
              "      Upload widget is only available when the cell has been executed in the\n",
              "      current browser session. Please rerun this cell to enable.\n",
              "      </output>\n",
              "      <script>// Copyright 2017 Google LLC\n",
              "//\n",
              "// Licensed under the Apache License, Version 2.0 (the \"License\");\n",
              "// you may not use this file except in compliance with the License.\n",
              "// You may obtain a copy of the License at\n",
              "//\n",
              "//      http://www.apache.org/licenses/LICENSE-2.0\n",
              "//\n",
              "// Unless required by applicable law or agreed to in writing, software\n",
              "// distributed under the License is distributed on an \"AS IS\" BASIS,\n",
              "// WITHOUT WARRANTIES OR CONDITIONS OF ANY KIND, either express or implied.\n",
              "// See the License for the specific language governing permissions and\n",
              "// limitations under the License.\n",
              "\n",
              "/**\n",
              " * @fileoverview Helpers for google.colab Python module.\n",
              " */\n",
              "(function(scope) {\n",
              "function span(text, styleAttributes = {}) {\n",
              "  const element = document.createElement('span');\n",
              "  element.textContent = text;\n",
              "  for (const key of Object.keys(styleAttributes)) {\n",
              "    element.style[key] = styleAttributes[key];\n",
              "  }\n",
              "  return element;\n",
              "}\n",
              "\n",
              "// Max number of bytes which will be uploaded at a time.\n",
              "const MAX_PAYLOAD_SIZE = 100 * 1024;\n",
              "\n",
              "function _uploadFiles(inputId, outputId) {\n",
              "  const steps = uploadFilesStep(inputId, outputId);\n",
              "  const outputElement = document.getElementById(outputId);\n",
              "  // Cache steps on the outputElement to make it available for the next call\n",
              "  // to uploadFilesContinue from Python.\n",
              "  outputElement.steps = steps;\n",
              "\n",
              "  return _uploadFilesContinue(outputId);\n",
              "}\n",
              "\n",
              "// This is roughly an async generator (not supported in the browser yet),\n",
              "// where there are multiple asynchronous steps and the Python side is going\n",
              "// to poll for completion of each step.\n",
              "// This uses a Promise to block the python side on completion of each step,\n",
              "// then passes the result of the previous step as the input to the next step.\n",
              "function _uploadFilesContinue(outputId) {\n",
              "  const outputElement = document.getElementById(outputId);\n",
              "  const steps = outputElement.steps;\n",
              "\n",
              "  const next = steps.next(outputElement.lastPromiseValue);\n",
              "  return Promise.resolve(next.value.promise).then((value) => {\n",
              "    // Cache the last promise value to make it available to the next\n",
              "    // step of the generator.\n",
              "    outputElement.lastPromiseValue = value;\n",
              "    return next.value.response;\n",
              "  });\n",
              "}\n",
              "\n",
              "/**\n",
              " * Generator function which is called between each async step of the upload\n",
              " * process.\n",
              " * @param {string} inputId Element ID of the input file picker element.\n",
              " * @param {string} outputId Element ID of the output display.\n",
              " * @return {!Iterable<!Object>} Iterable of next steps.\n",
              " */\n",
              "function* uploadFilesStep(inputId, outputId) {\n",
              "  const inputElement = document.getElementById(inputId);\n",
              "  inputElement.disabled = false;\n",
              "\n",
              "  const outputElement = document.getElementById(outputId);\n",
              "  outputElement.innerHTML = '';\n",
              "\n",
              "  const pickedPromise = new Promise((resolve) => {\n",
              "    inputElement.addEventListener('change', (e) => {\n",
              "      resolve(e.target.files);\n",
              "    });\n",
              "  });\n",
              "\n",
              "  const cancel = document.createElement('button');\n",
              "  inputElement.parentElement.appendChild(cancel);\n",
              "  cancel.textContent = 'Cancel upload';\n",
              "  const cancelPromise = new Promise((resolve) => {\n",
              "    cancel.onclick = () => {\n",
              "      resolve(null);\n",
              "    };\n",
              "  });\n",
              "\n",
              "  // Wait for the user to pick the files.\n",
              "  const files = yield {\n",
              "    promise: Promise.race([pickedPromise, cancelPromise]),\n",
              "    response: {\n",
              "      action: 'starting',\n",
              "    }\n",
              "  };\n",
              "\n",
              "  cancel.remove();\n",
              "\n",
              "  // Disable the input element since further picks are not allowed.\n",
              "  inputElement.disabled = true;\n",
              "\n",
              "  if (!files) {\n",
              "    return {\n",
              "      response: {\n",
              "        action: 'complete',\n",
              "      }\n",
              "    };\n",
              "  }\n",
              "\n",
              "  for (const file of files) {\n",
              "    const li = document.createElement('li');\n",
              "    li.append(span(file.name, {fontWeight: 'bold'}));\n",
              "    li.append(span(\n",
              "        `(${file.type || 'n/a'}) - ${file.size} bytes, ` +\n",
              "        `last modified: ${\n",
              "            file.lastModifiedDate ? file.lastModifiedDate.toLocaleDateString() :\n",
              "                                    'n/a'} - `));\n",
              "    const percent = span('0% done');\n",
              "    li.appendChild(percent);\n",
              "\n",
              "    outputElement.appendChild(li);\n",
              "\n",
              "    const fileDataPromise = new Promise((resolve) => {\n",
              "      const reader = new FileReader();\n",
              "      reader.onload = (e) => {\n",
              "        resolve(e.target.result);\n",
              "      };\n",
              "      reader.readAsArrayBuffer(file);\n",
              "    });\n",
              "    // Wait for the data to be ready.\n",
              "    let fileData = yield {\n",
              "      promise: fileDataPromise,\n",
              "      response: {\n",
              "        action: 'continue',\n",
              "      }\n",
              "    };\n",
              "\n",
              "    // Use a chunked sending to avoid message size limits. See b/62115660.\n",
              "    let position = 0;\n",
              "    do {\n",
              "      const length = Math.min(fileData.byteLength - position, MAX_PAYLOAD_SIZE);\n",
              "      const chunk = new Uint8Array(fileData, position, length);\n",
              "      position += length;\n",
              "\n",
              "      const base64 = btoa(String.fromCharCode.apply(null, chunk));\n",
              "      yield {\n",
              "        response: {\n",
              "          action: 'append',\n",
              "          file: file.name,\n",
              "          data: base64,\n",
              "        },\n",
              "      };\n",
              "\n",
              "      let percentDone = fileData.byteLength === 0 ?\n",
              "          100 :\n",
              "          Math.round((position / fileData.byteLength) * 100);\n",
              "      percent.textContent = `${percentDone}% done`;\n",
              "\n",
              "    } while (position < fileData.byteLength);\n",
              "  }\n",
              "\n",
              "  // All done.\n",
              "  yield {\n",
              "    response: {\n",
              "      action: 'complete',\n",
              "    }\n",
              "  };\n",
              "}\n",
              "\n",
              "scope.google = scope.google || {};\n",
              "scope.google.colab = scope.google.colab || {};\n",
              "scope.google.colab._files = {\n",
              "  _uploadFiles,\n",
              "  _uploadFilesContinue,\n",
              "};\n",
              "})(self);\n",
              "</script> "
            ]
          },
          "metadata": {}
        },
        {
          "output_type": "stream",
          "name": "stdout",
          "text": [
            "Saving BuyerRatio.csv to BuyerRatio.csv\n"
          ]
        }
      ]
    },
    {
      "cell_type": "code",
      "source": [
        "buyerratio=pd.read_csv('BuyerRatio.csv')\n",
        "buyerratio"
      ],
      "metadata": {
        "colab": {
          "base_uri": "https://localhost:8080/",
          "height": 112
        },
        "id": "kh6LDYd0XeY2",
        "outputId": "938df1b9-8052-40a4-c3d2-4d11ebea6cea"
      },
      "execution_count": null,
      "outputs": [
        {
          "output_type": "execute_result",
          "data": {
            "text/plain": [
              "  Observed Values  East  West  North  South\n",
              "0           Males    50   142    131     70\n",
              "1         Females   435  1523   1356    750"
            ],
            "text/html": [
              "\n",
              "  <div id=\"df-540be245-6ca3-4749-aa4a-2335892844df\">\n",
              "    <div class=\"colab-df-container\">\n",
              "      <div>\n",
              "<style scoped>\n",
              "    .dataframe tbody tr th:only-of-type {\n",
              "        vertical-align: middle;\n",
              "    }\n",
              "\n",
              "    .dataframe tbody tr th {\n",
              "        vertical-align: top;\n",
              "    }\n",
              "\n",
              "    .dataframe thead th {\n",
              "        text-align: right;\n",
              "    }\n",
              "</style>\n",
              "<table border=\"1\" class=\"dataframe\">\n",
              "  <thead>\n",
              "    <tr style=\"text-align: right;\">\n",
              "      <th></th>\n",
              "      <th>Observed Values</th>\n",
              "      <th>East</th>\n",
              "      <th>West</th>\n",
              "      <th>North</th>\n",
              "      <th>South</th>\n",
              "    </tr>\n",
              "  </thead>\n",
              "  <tbody>\n",
              "    <tr>\n",
              "      <th>0</th>\n",
              "      <td>Males</td>\n",
              "      <td>50</td>\n",
              "      <td>142</td>\n",
              "      <td>131</td>\n",
              "      <td>70</td>\n",
              "    </tr>\n",
              "    <tr>\n",
              "      <th>1</th>\n",
              "      <td>Females</td>\n",
              "      <td>435</td>\n",
              "      <td>1523</td>\n",
              "      <td>1356</td>\n",
              "      <td>750</td>\n",
              "    </tr>\n",
              "  </tbody>\n",
              "</table>\n",
              "</div>\n",
              "      <button class=\"colab-df-convert\" onclick=\"convertToInteractive('df-540be245-6ca3-4749-aa4a-2335892844df')\"\n",
              "              title=\"Convert this dataframe to an interactive table.\"\n",
              "              style=\"display:none;\">\n",
              "        \n",
              "  <svg xmlns=\"http://www.w3.org/2000/svg\" height=\"24px\"viewBox=\"0 0 24 24\"\n",
              "       width=\"24px\">\n",
              "    <path d=\"M0 0h24v24H0V0z\" fill=\"none\"/>\n",
              "    <path d=\"M18.56 5.44l.94 2.06.94-2.06 2.06-.94-2.06-.94-.94-2.06-.94 2.06-2.06.94zm-11 1L8.5 8.5l.94-2.06 2.06-.94-2.06-.94L8.5 2.5l-.94 2.06-2.06.94zm10 10l.94 2.06.94-2.06 2.06-.94-2.06-.94-.94-2.06-.94 2.06-2.06.94z\"/><path d=\"M17.41 7.96l-1.37-1.37c-.4-.4-.92-.59-1.43-.59-.52 0-1.04.2-1.43.59L10.3 9.45l-7.72 7.72c-.78.78-.78 2.05 0 2.83L4 21.41c.39.39.9.59 1.41.59.51 0 1.02-.2 1.41-.59l7.78-7.78 2.81-2.81c.8-.78.8-2.07 0-2.86zM5.41 20L4 18.59l7.72-7.72 1.47 1.35L5.41 20z\"/>\n",
              "  </svg>\n",
              "      </button>\n",
              "      \n",
              "  <style>\n",
              "    .colab-df-container {\n",
              "      display:flex;\n",
              "      flex-wrap:wrap;\n",
              "      gap: 12px;\n",
              "    }\n",
              "\n",
              "    .colab-df-convert {\n",
              "      background-color: #E8F0FE;\n",
              "      border: none;\n",
              "      border-radius: 50%;\n",
              "      cursor: pointer;\n",
              "      display: none;\n",
              "      fill: #1967D2;\n",
              "      height: 32px;\n",
              "      padding: 0 0 0 0;\n",
              "      width: 32px;\n",
              "    }\n",
              "\n",
              "    .colab-df-convert:hover {\n",
              "      background-color: #E2EBFA;\n",
              "      box-shadow: 0px 1px 2px rgba(60, 64, 67, 0.3), 0px 1px 3px 1px rgba(60, 64, 67, 0.15);\n",
              "      fill: #174EA6;\n",
              "    }\n",
              "\n",
              "    [theme=dark] .colab-df-convert {\n",
              "      background-color: #3B4455;\n",
              "      fill: #D2E3FC;\n",
              "    }\n",
              "\n",
              "    [theme=dark] .colab-df-convert:hover {\n",
              "      background-color: #434B5C;\n",
              "      box-shadow: 0px 1px 3px 1px rgba(0, 0, 0, 0.15);\n",
              "      filter: drop-shadow(0px 1px 2px rgba(0, 0, 0, 0.3));\n",
              "      fill: #FFFFFF;\n",
              "    }\n",
              "  </style>\n",
              "\n",
              "      <script>\n",
              "        const buttonEl =\n",
              "          document.querySelector('#df-540be245-6ca3-4749-aa4a-2335892844df button.colab-df-convert');\n",
              "        buttonEl.style.display =\n",
              "          google.colab.kernel.accessAllowed ? 'block' : 'none';\n",
              "\n",
              "        async function convertToInteractive(key) {\n",
              "          const element = document.querySelector('#df-540be245-6ca3-4749-aa4a-2335892844df');\n",
              "          const dataTable =\n",
              "            await google.colab.kernel.invokeFunction('convertToInteractive',\n",
              "                                                     [key], {});\n",
              "          if (!dataTable) return;\n",
              "\n",
              "          const docLinkHtml = 'Like what you see? Visit the ' +\n",
              "            '<a target=\"_blank\" href=https://colab.research.google.com/notebooks/data_table.ipynb>data table notebook</a>'\n",
              "            + ' to learn more about interactive tables.';\n",
              "          element.innerHTML = '';\n",
              "          dataTable['output_type'] = 'display_data';\n",
              "          await google.colab.output.renderOutput(dataTable, element);\n",
              "          const docLink = document.createElement('div');\n",
              "          docLink.innerHTML = docLinkHtml;\n",
              "          element.appendChild(docLink);\n",
              "        }\n",
              "      </script>\n",
              "    </div>\n",
              "  </div>\n",
              "  "
            ]
          },
          "metadata": {},
          "execution_count": 120
        }
      ]
    },
    {
      "cell_type": "code",
      "source": [
        "buyerratio.info()"
      ],
      "metadata": {
        "colab": {
          "base_uri": "https://localhost:8080/"
        },
        "id": "YrWHMyMtXqXi",
        "outputId": "82eb9a4a-0b00-4182-951a-4f79b605244f"
      },
      "execution_count": null,
      "outputs": [
        {
          "output_type": "stream",
          "name": "stdout",
          "text": [
            "<class 'pandas.core.frame.DataFrame'>\n",
            "RangeIndex: 2 entries, 0 to 1\n",
            "Data columns (total 5 columns):\n",
            " #   Column           Non-Null Count  Dtype \n",
            "---  ------           --------------  ----- \n",
            " 0   Observed Values  2 non-null      object\n",
            " 1   East             2 non-null      int64 \n",
            " 2   West             2 non-null      int64 \n",
            " 3   North            2 non-null      int64 \n",
            " 4   South            2 non-null      int64 \n",
            "dtypes: int64(4), object(1)\n",
            "memory usage: 208.0+ bytes\n"
          ]
        }
      ]
    },
    {
      "cell_type": "code",
      "source": [
        "observed1=buyerratio.drop('Observed Values',axis=1)\n",
        "observed1"
      ],
      "metadata": {
        "colab": {
          "base_uri": "https://localhost:8080/",
          "height": 112
        },
        "id": "cO86X08CY6jy",
        "outputId": "93883908-57ae-42bf-b0cd-05372a36a29d"
      },
      "execution_count": null,
      "outputs": [
        {
          "output_type": "execute_result",
          "data": {
            "text/plain": [
              "   East  West  North  South\n",
              "0    50   142    131     70\n",
              "1   435  1523   1356    750"
            ],
            "text/html": [
              "\n",
              "  <div id=\"df-a671b57c-1130-4be6-8858-dc94c4726c9a\">\n",
              "    <div class=\"colab-df-container\">\n",
              "      <div>\n",
              "<style scoped>\n",
              "    .dataframe tbody tr th:only-of-type {\n",
              "        vertical-align: middle;\n",
              "    }\n",
              "\n",
              "    .dataframe tbody tr th {\n",
              "        vertical-align: top;\n",
              "    }\n",
              "\n",
              "    .dataframe thead th {\n",
              "        text-align: right;\n",
              "    }\n",
              "</style>\n",
              "<table border=\"1\" class=\"dataframe\">\n",
              "  <thead>\n",
              "    <tr style=\"text-align: right;\">\n",
              "      <th></th>\n",
              "      <th>East</th>\n",
              "      <th>West</th>\n",
              "      <th>North</th>\n",
              "      <th>South</th>\n",
              "    </tr>\n",
              "  </thead>\n",
              "  <tbody>\n",
              "    <tr>\n",
              "      <th>0</th>\n",
              "      <td>50</td>\n",
              "      <td>142</td>\n",
              "      <td>131</td>\n",
              "      <td>70</td>\n",
              "    </tr>\n",
              "    <tr>\n",
              "      <th>1</th>\n",
              "      <td>435</td>\n",
              "      <td>1523</td>\n",
              "      <td>1356</td>\n",
              "      <td>750</td>\n",
              "    </tr>\n",
              "  </tbody>\n",
              "</table>\n",
              "</div>\n",
              "      <button class=\"colab-df-convert\" onclick=\"convertToInteractive('df-a671b57c-1130-4be6-8858-dc94c4726c9a')\"\n",
              "              title=\"Convert this dataframe to an interactive table.\"\n",
              "              style=\"display:none;\">\n",
              "        \n",
              "  <svg xmlns=\"http://www.w3.org/2000/svg\" height=\"24px\"viewBox=\"0 0 24 24\"\n",
              "       width=\"24px\">\n",
              "    <path d=\"M0 0h24v24H0V0z\" fill=\"none\"/>\n",
              "    <path d=\"M18.56 5.44l.94 2.06.94-2.06 2.06-.94-2.06-.94-.94-2.06-.94 2.06-2.06.94zm-11 1L8.5 8.5l.94-2.06 2.06-.94-2.06-.94L8.5 2.5l-.94 2.06-2.06.94zm10 10l.94 2.06.94-2.06 2.06-.94-2.06-.94-.94-2.06-.94 2.06-2.06.94z\"/><path d=\"M17.41 7.96l-1.37-1.37c-.4-.4-.92-.59-1.43-.59-.52 0-1.04.2-1.43.59L10.3 9.45l-7.72 7.72c-.78.78-.78 2.05 0 2.83L4 21.41c.39.39.9.59 1.41.59.51 0 1.02-.2 1.41-.59l7.78-7.78 2.81-2.81c.8-.78.8-2.07 0-2.86zM5.41 20L4 18.59l7.72-7.72 1.47 1.35L5.41 20z\"/>\n",
              "  </svg>\n",
              "      </button>\n",
              "      \n",
              "  <style>\n",
              "    .colab-df-container {\n",
              "      display:flex;\n",
              "      flex-wrap:wrap;\n",
              "      gap: 12px;\n",
              "    }\n",
              "\n",
              "    .colab-df-convert {\n",
              "      background-color: #E8F0FE;\n",
              "      border: none;\n",
              "      border-radius: 50%;\n",
              "      cursor: pointer;\n",
              "      display: none;\n",
              "      fill: #1967D2;\n",
              "      height: 32px;\n",
              "      padding: 0 0 0 0;\n",
              "      width: 32px;\n",
              "    }\n",
              "\n",
              "    .colab-df-convert:hover {\n",
              "      background-color: #E2EBFA;\n",
              "      box-shadow: 0px 1px 2px rgba(60, 64, 67, 0.3), 0px 1px 3px 1px rgba(60, 64, 67, 0.15);\n",
              "      fill: #174EA6;\n",
              "    }\n",
              "\n",
              "    [theme=dark] .colab-df-convert {\n",
              "      background-color: #3B4455;\n",
              "      fill: #D2E3FC;\n",
              "    }\n",
              "\n",
              "    [theme=dark] .colab-df-convert:hover {\n",
              "      background-color: #434B5C;\n",
              "      box-shadow: 0px 1px 3px 1px rgba(0, 0, 0, 0.15);\n",
              "      filter: drop-shadow(0px 1px 2px rgba(0, 0, 0, 0.3));\n",
              "      fill: #FFFFFF;\n",
              "    }\n",
              "  </style>\n",
              "\n",
              "      <script>\n",
              "        const buttonEl =\n",
              "          document.querySelector('#df-a671b57c-1130-4be6-8858-dc94c4726c9a button.colab-df-convert');\n",
              "        buttonEl.style.display =\n",
              "          google.colab.kernel.accessAllowed ? 'block' : 'none';\n",
              "\n",
              "        async function convertToInteractive(key) {\n",
              "          const element = document.querySelector('#df-a671b57c-1130-4be6-8858-dc94c4726c9a');\n",
              "          const dataTable =\n",
              "            await google.colab.kernel.invokeFunction('convertToInteractive',\n",
              "                                                     [key], {});\n",
              "          if (!dataTable) return;\n",
              "\n",
              "          const docLinkHtml = 'Like what you see? Visit the ' +\n",
              "            '<a target=\"_blank\" href=https://colab.research.google.com/notebooks/data_table.ipynb>data table notebook</a>'\n",
              "            + ' to learn more about interactive tables.';\n",
              "          element.innerHTML = '';\n",
              "          dataTable['output_type'] = 'display_data';\n",
              "          await google.colab.output.renderOutput(dataTable, element);\n",
              "          const docLink = document.createElement('div');\n",
              "          docLink.innerHTML = docLinkHtml;\n",
              "          element.appendChild(docLink);\n",
              "        }\n",
              "      </script>\n",
              "    </div>\n",
              "  </div>\n",
              "  "
            ]
          },
          "metadata": {},
          "execution_count": 126
        }
      ]
    },
    {
      "cell_type": "code",
      "source": [
        "observed2=observed1.values\n",
        "observed2"
      ],
      "metadata": {
        "colab": {
          "base_uri": "https://localhost:8080/"
        },
        "id": "BuJVTvYMeE_l",
        "outputId": "30c3fdc2-322d-4d17-b240-ced97bc45305"
      },
      "execution_count": null,
      "outputs": [
        {
          "output_type": "execute_result",
          "data": {
            "text/plain": [
              "array([[  50,  142,  131,   70],\n",
              "       [ 435, 1523, 1356,  750]])"
            ]
          },
          "metadata": {},
          "execution_count": 127
        }
      ]
    },
    {
      "cell_type": "code",
      "source": [
        "# stat,p,degress of freedom = # of rows* # of ,expected1\n",
        "from scipy.stats import chi2_contingency\n",
        "\n",
        "stat, p, df, expected1 =stats.chi2_contingency(observed1)\n",
        "\n",
        "stats.chi2_contingency(observed1)"
      ],
      "metadata": {
        "colab": {
          "base_uri": "https://localhost:8080/"
        },
        "id": "UtokBG0iXylx",
        "outputId": "0fd31e5a-66e5-4cf0-da8e-d8f67eb8dcb8"
      },
      "execution_count": null,
      "outputs": [
        {
          "output_type": "execute_result",
          "data": {
            "text/plain": [
              "(1.595945538661058,\n",
              " 0.6603094907091882,\n",
              " 3,\n",
              " array([[  42.76531299,  146.81287862,  131.11756787,   72.30424052],\n",
              "        [ 442.23468701, 1518.18712138, 1355.88243213,  747.69575948]]))"
            ]
          },
          "metadata": {},
          "execution_count": 142
        }
      ]
    },
    {
      "cell_type": "code",
      "source": [
        "observed = np.array([50, 142, 131, 70, 435, 1523, 1356, 750])\n",
        "expected = np.array([42.76531299,  146.81287862,  131.11756787, 72.30424052, 442.23468701, 1518.18712138, 1355.88243213, 747.69575948])"
      ],
      "metadata": {
        "id": "Pd6XWBwPutUb"
      },
      "execution_count": null,
      "outputs": []
    },
    {
      "cell_type": "code",
      "source": [
        "#method1:\n",
        "statistic, p_value = stats.chisquare(observed,expected,df)\n",
        "print(\"Statistics = \",statistic,\"\\n\",'P_Value = ', p_value)"
      ],
      "metadata": {
        "colab": {
          "base_uri": "https://localhost:8080/"
        },
        "id": "B_HuaBOdYffP",
        "outputId": "7796268e-ad42-42ad-9d31-afc25d64d178"
      },
      "execution_count": null,
      "outputs": [
        {
          "output_type": "stream",
          "name": "stdout",
          "text": [
            "Statistics =  1.5959455390914483 \n",
            " P_Value =  0.8095206646905712\n"
          ]
        }
      ]
    },
    {
      "cell_type": "code",
      "source": [
        "alpha = 0.05\n",
        "print('Significnace=%.3f, p=%.3f' % (alpha, p_value))\n",
        "if p_value <= alpha:\n",
        "    print('\\n We reject Null Hypothesis',\n",
        "          '\\n\\n ∴ There is a significant association or dependency between the gender based buyer rations across regions')\n",
        "else:\n",
        "    print('\\n We fail to reject Null hypothesis',\n",
        "          '\\n\\n ∴ There is no association or dependency between the gender based buyer rations across regions')"
      ],
      "metadata": {
        "colab": {
          "base_uri": "https://localhost:8080/"
        },
        "id": "PES6l9pJfnaG",
        "outputId": "4390dc2f-e6f2-4d4a-95ca-c2db1ca8dca2"
      },
      "execution_count": null,
      "outputs": [
        {
          "output_type": "stream",
          "name": "stdout",
          "text": [
            "Significnace=0.050, p=0.810\n",
            "\n",
            " We fail to reject Null hypothesis \n",
            "\n",
            " ∴ There is no association or dependency between the gender based buyer rations across regions\n"
          ]
        }
      ]
    },
    {
      "cell_type": "code",
      "source": [
        "#method2:\n",
        "from scipy.stats import chi2\n",
        "critical_value=chi2.ppf(0.95,3)\n",
        "critical_value"
      ],
      "metadata": {
        "colab": {
          "base_uri": "https://localhost:8080/"
        },
        "id": "jKLXUTBWj5s4",
        "outputId": "f96e81b4-4a39-47da-ebf3-f31030448a97"
      },
      "execution_count": null,
      "outputs": [
        {
          "output_type": "execute_result",
          "data": {
            "text/plain": [
              "7.814727903251179"
            ]
          },
          "metadata": {},
          "execution_count": 151
        }
      ]
    },
    {
      "cell_type": "code",
      "source": [
        "from scipy.stats import chi2\n",
        "chi_square_statestic=sum([(o-e)**2/e for o,e in zip(observed,expected)])\n",
        "chi_square_statestic"
      ],
      "metadata": {
        "colab": {
          "base_uri": "https://localhost:8080/"
        },
        "id": "mhDaD2JSkeur",
        "outputId": "5055d778-0543-422c-a11e-9516a622d2c8"
      },
      "execution_count": null,
      "outputs": [
        {
          "output_type": "execute_result",
          "data": {
            "text/plain": [
              "1.5959455390914485"
            ]
          },
          "metadata": {},
          "execution_count": 154
        }
      ]
    },
    {
      "cell_type": "code",
      "source": [
        "#p from chi square\n",
        "pvalue=1-chi2.cdf(chi_square_statestic,3)\n",
        "pvalue"
      ],
      "metadata": {
        "colab": {
          "base_uri": "https://localhost:8080/"
        },
        "id": "1Mwlx90VmKtC",
        "outputId": "621bcdc8-8017-4fb4-e676-a9759c08ba65"
      },
      "execution_count": null,
      "outputs": [
        {
          "output_type": "execute_result",
          "data": {
            "text/plain": [
              "0.6603094906115259"
            ]
          },
          "metadata": {},
          "execution_count": 137
        }
      ]
    },
    {
      "cell_type": "code",
      "source": [
        "if chi_square_statestic >= critical_value:\n",
        "    print('\\n We reject Null Hypothesis',\n",
        "          '\\n\\n ∴ There is a significant association or dependency between the gender based buyer rations across regions')\n",
        "else:\n",
        "    print('\\n We fail to reject Null hypothesis',\n",
        "          '\\n\\n ∴ There is no association or dependency between the gender based buyer rations across regions')"
      ],
      "metadata": {
        "colab": {
          "base_uri": "https://localhost:8080/"
        },
        "id": "8jqXzU5AlddW",
        "outputId": "5daa33d0-944b-4eff-8727-699f99c5b600"
      },
      "execution_count": null,
      "outputs": [
        {
          "output_type": "stream",
          "name": "stdout",
          "text": [
            "\n",
            " We fail to reject Null hypothesis \n",
            "\n",
            " ∴ There is no association or dependency between the gender based buyer rations across regions\n"
          ]
        }
      ]
    },
    {
      "cell_type": "markdown",
      "source": [
        "\n",
        "\n",
        "---\n",
        "\n"
      ],
      "metadata": {
        "id": "EKXEpMWIhax7"
      }
    },
    {
      "cell_type": "markdown",
      "source": [
        "**Question-4)**\n",
        "\n",
        "**TeleCall uses 4 centers around the globe to process customer order forms. They audit a certain %  of the customer order forms. Any error in order form renders it defective and has to be reworked before processing.  The manager wants to check whether the defective %  varies by centre. Please analyze the data at 5% significance level and help the manager draw appropriate inferences**\n",
        "\n",
        "**Minitab File: CustomerOrderForm.mtw**\n"
      ],
      "metadata": {
        "id": "DT4nypAKhd_J"
      }
    },
    {
      "cell_type": "markdown",
      "source": [
        "Ans: **Customer order forms defective % does not varies by centre**\n",
        "\n",
        "Explanation:\n",
        "\n",
        "We need to check whether Customer order forms defective % does varies by centre or not\n",
        "\n",
        "**Test :** Chi-Square test with Contingency table\n",
        "\n",
        "**Hypothesis:**\n",
        "\n",
        "Null Hypothesis:\n",
        "\n",
        "customer order forms defective % does not varies by centre\n",
        "\n",
        "Alternative Hypthosis:\n",
        "\n",
        "customer order forms defective % varies by centre\n",
        "\n",
        "**Significance :** \n",
        "alpha =5%= 0.05\n",
        "\n",
        "**Comparision & conclusion:**\n",
        "\n",
        "p_value with 'α'\n",
        "\n",
        "If p_value > 'α' we failed to reject Null Hypothesis because of lack of evidence\n",
        "\n",
        "If p_value is < 'α' we reject Null Hypothesis"
      ],
      "metadata": {
        "id": "NKwFKvn7iegm"
      }
    },
    {
      "cell_type": "code",
      "source": [
        "from google.colab import files\n",
        "uploaded=files.upload()"
      ],
      "metadata": {
        "colab": {
          "base_uri": "https://localhost:8080/",
          "height": 73
        },
        "id": "JlEo3kG1qBc7",
        "outputId": "87f837a0-cb5d-4ef8-b70c-d383a16ae6bd"
      },
      "execution_count": null,
      "outputs": [
        {
          "output_type": "display_data",
          "data": {
            "text/plain": [
              "<IPython.core.display.HTML object>"
            ],
            "text/html": [
              "\n",
              "     <input type=\"file\" id=\"files-aaf6fb13-6874-4263-88cf-c3c0e7924a7f\" name=\"files[]\" multiple disabled\n",
              "        style=\"border:none\" />\n",
              "     <output id=\"result-aaf6fb13-6874-4263-88cf-c3c0e7924a7f\">\n",
              "      Upload widget is only available when the cell has been executed in the\n",
              "      current browser session. Please rerun this cell to enable.\n",
              "      </output>\n",
              "      <script>// Copyright 2017 Google LLC\n",
              "//\n",
              "// Licensed under the Apache License, Version 2.0 (the \"License\");\n",
              "// you may not use this file except in compliance with the License.\n",
              "// You may obtain a copy of the License at\n",
              "//\n",
              "//      http://www.apache.org/licenses/LICENSE-2.0\n",
              "//\n",
              "// Unless required by applicable law or agreed to in writing, software\n",
              "// distributed under the License is distributed on an \"AS IS\" BASIS,\n",
              "// WITHOUT WARRANTIES OR CONDITIONS OF ANY KIND, either express or implied.\n",
              "// See the License for the specific language governing permissions and\n",
              "// limitations under the License.\n",
              "\n",
              "/**\n",
              " * @fileoverview Helpers for google.colab Python module.\n",
              " */\n",
              "(function(scope) {\n",
              "function span(text, styleAttributes = {}) {\n",
              "  const element = document.createElement('span');\n",
              "  element.textContent = text;\n",
              "  for (const key of Object.keys(styleAttributes)) {\n",
              "    element.style[key] = styleAttributes[key];\n",
              "  }\n",
              "  return element;\n",
              "}\n",
              "\n",
              "// Max number of bytes which will be uploaded at a time.\n",
              "const MAX_PAYLOAD_SIZE = 100 * 1024;\n",
              "\n",
              "function _uploadFiles(inputId, outputId) {\n",
              "  const steps = uploadFilesStep(inputId, outputId);\n",
              "  const outputElement = document.getElementById(outputId);\n",
              "  // Cache steps on the outputElement to make it available for the next call\n",
              "  // to uploadFilesContinue from Python.\n",
              "  outputElement.steps = steps;\n",
              "\n",
              "  return _uploadFilesContinue(outputId);\n",
              "}\n",
              "\n",
              "// This is roughly an async generator (not supported in the browser yet),\n",
              "// where there are multiple asynchronous steps and the Python side is going\n",
              "// to poll for completion of each step.\n",
              "// This uses a Promise to block the python side on completion of each step,\n",
              "// then passes the result of the previous step as the input to the next step.\n",
              "function _uploadFilesContinue(outputId) {\n",
              "  const outputElement = document.getElementById(outputId);\n",
              "  const steps = outputElement.steps;\n",
              "\n",
              "  const next = steps.next(outputElement.lastPromiseValue);\n",
              "  return Promise.resolve(next.value.promise).then((value) => {\n",
              "    // Cache the last promise value to make it available to the next\n",
              "    // step of the generator.\n",
              "    outputElement.lastPromiseValue = value;\n",
              "    return next.value.response;\n",
              "  });\n",
              "}\n",
              "\n",
              "/**\n",
              " * Generator function which is called between each async step of the upload\n",
              " * process.\n",
              " * @param {string} inputId Element ID of the input file picker element.\n",
              " * @param {string} outputId Element ID of the output display.\n",
              " * @return {!Iterable<!Object>} Iterable of next steps.\n",
              " */\n",
              "function* uploadFilesStep(inputId, outputId) {\n",
              "  const inputElement = document.getElementById(inputId);\n",
              "  inputElement.disabled = false;\n",
              "\n",
              "  const outputElement = document.getElementById(outputId);\n",
              "  outputElement.innerHTML = '';\n",
              "\n",
              "  const pickedPromise = new Promise((resolve) => {\n",
              "    inputElement.addEventListener('change', (e) => {\n",
              "      resolve(e.target.files);\n",
              "    });\n",
              "  });\n",
              "\n",
              "  const cancel = document.createElement('button');\n",
              "  inputElement.parentElement.appendChild(cancel);\n",
              "  cancel.textContent = 'Cancel upload';\n",
              "  const cancelPromise = new Promise((resolve) => {\n",
              "    cancel.onclick = () => {\n",
              "      resolve(null);\n",
              "    };\n",
              "  });\n",
              "\n",
              "  // Wait for the user to pick the files.\n",
              "  const files = yield {\n",
              "    promise: Promise.race([pickedPromise, cancelPromise]),\n",
              "    response: {\n",
              "      action: 'starting',\n",
              "    }\n",
              "  };\n",
              "\n",
              "  cancel.remove();\n",
              "\n",
              "  // Disable the input element since further picks are not allowed.\n",
              "  inputElement.disabled = true;\n",
              "\n",
              "  if (!files) {\n",
              "    return {\n",
              "      response: {\n",
              "        action: 'complete',\n",
              "      }\n",
              "    };\n",
              "  }\n",
              "\n",
              "  for (const file of files) {\n",
              "    const li = document.createElement('li');\n",
              "    li.append(span(file.name, {fontWeight: 'bold'}));\n",
              "    li.append(span(\n",
              "        `(${file.type || 'n/a'}) - ${file.size} bytes, ` +\n",
              "        `last modified: ${\n",
              "            file.lastModifiedDate ? file.lastModifiedDate.toLocaleDateString() :\n",
              "                                    'n/a'} - `));\n",
              "    const percent = span('0% done');\n",
              "    li.appendChild(percent);\n",
              "\n",
              "    outputElement.appendChild(li);\n",
              "\n",
              "    const fileDataPromise = new Promise((resolve) => {\n",
              "      const reader = new FileReader();\n",
              "      reader.onload = (e) => {\n",
              "        resolve(e.target.result);\n",
              "      };\n",
              "      reader.readAsArrayBuffer(file);\n",
              "    });\n",
              "    // Wait for the data to be ready.\n",
              "    let fileData = yield {\n",
              "      promise: fileDataPromise,\n",
              "      response: {\n",
              "        action: 'continue',\n",
              "      }\n",
              "    };\n",
              "\n",
              "    // Use a chunked sending to avoid message size limits. See b/62115660.\n",
              "    let position = 0;\n",
              "    do {\n",
              "      const length = Math.min(fileData.byteLength - position, MAX_PAYLOAD_SIZE);\n",
              "      const chunk = new Uint8Array(fileData, position, length);\n",
              "      position += length;\n",
              "\n",
              "      const base64 = btoa(String.fromCharCode.apply(null, chunk));\n",
              "      yield {\n",
              "        response: {\n",
              "          action: 'append',\n",
              "          file: file.name,\n",
              "          data: base64,\n",
              "        },\n",
              "      };\n",
              "\n",
              "      let percentDone = fileData.byteLength === 0 ?\n",
              "          100 :\n",
              "          Math.round((position / fileData.byteLength) * 100);\n",
              "      percent.textContent = `${percentDone}% done`;\n",
              "\n",
              "    } while (position < fileData.byteLength);\n",
              "  }\n",
              "\n",
              "  // All done.\n",
              "  yield {\n",
              "    response: {\n",
              "      action: 'complete',\n",
              "    }\n",
              "  };\n",
              "}\n",
              "\n",
              "scope.google = scope.google || {};\n",
              "scope.google.colab = scope.google.colab || {};\n",
              "scope.google.colab._files = {\n",
              "  _uploadFiles,\n",
              "  _uploadFilesContinue,\n",
              "};\n",
              "})(self);\n",
              "</script> "
            ]
          },
          "metadata": {}
        },
        {
          "output_type": "stream",
          "name": "stdout",
          "text": [
            "Saving Costomer+OrderForm.csv to Costomer+OrderForm.csv\n"
          ]
        }
      ]
    },
    {
      "cell_type": "code",
      "source": [
        "centers=pd.read_csv('Costomer+OrderForm.csv')\n",
        "centers"
      ],
      "metadata": {
        "colab": {
          "base_uri": "https://localhost:8080/",
          "height": 424
        },
        "id": "ZKJbKdzfqavc",
        "outputId": "8e1799f4-5e12-45d9-9868-d2df0333d510"
      },
      "execution_count": null,
      "outputs": [
        {
          "output_type": "execute_result",
          "data": {
            "text/plain": [
              "    Phillippines   Indonesia       Malta       India\n",
              "0     Error Free  Error Free   Defective  Error Free\n",
              "1     Error Free  Error Free  Error Free   Defective\n",
              "2     Error Free   Defective   Defective  Error Free\n",
              "3     Error Free  Error Free  Error Free  Error Free\n",
              "4     Error Free  Error Free   Defective  Error Free\n",
              "..           ...         ...         ...         ...\n",
              "295   Error Free  Error Free  Error Free  Error Free\n",
              "296   Error Free  Error Free  Error Free  Error Free\n",
              "297   Error Free  Error Free   Defective  Error Free\n",
              "298   Error Free  Error Free  Error Free  Error Free\n",
              "299   Error Free   Defective   Defective  Error Free\n",
              "\n",
              "[300 rows x 4 columns]"
            ],
            "text/html": [
              "\n",
              "  <div id=\"df-762ee8b6-0c53-4f43-8cdf-eb938dcb3ae2\">\n",
              "    <div class=\"colab-df-container\">\n",
              "      <div>\n",
              "<style scoped>\n",
              "    .dataframe tbody tr th:only-of-type {\n",
              "        vertical-align: middle;\n",
              "    }\n",
              "\n",
              "    .dataframe tbody tr th {\n",
              "        vertical-align: top;\n",
              "    }\n",
              "\n",
              "    .dataframe thead th {\n",
              "        text-align: right;\n",
              "    }\n",
              "</style>\n",
              "<table border=\"1\" class=\"dataframe\">\n",
              "  <thead>\n",
              "    <tr style=\"text-align: right;\">\n",
              "      <th></th>\n",
              "      <th>Phillippines</th>\n",
              "      <th>Indonesia</th>\n",
              "      <th>Malta</th>\n",
              "      <th>India</th>\n",
              "    </tr>\n",
              "  </thead>\n",
              "  <tbody>\n",
              "    <tr>\n",
              "      <th>0</th>\n",
              "      <td>Error Free</td>\n",
              "      <td>Error Free</td>\n",
              "      <td>Defective</td>\n",
              "      <td>Error Free</td>\n",
              "    </tr>\n",
              "    <tr>\n",
              "      <th>1</th>\n",
              "      <td>Error Free</td>\n",
              "      <td>Error Free</td>\n",
              "      <td>Error Free</td>\n",
              "      <td>Defective</td>\n",
              "    </tr>\n",
              "    <tr>\n",
              "      <th>2</th>\n",
              "      <td>Error Free</td>\n",
              "      <td>Defective</td>\n",
              "      <td>Defective</td>\n",
              "      <td>Error Free</td>\n",
              "    </tr>\n",
              "    <tr>\n",
              "      <th>3</th>\n",
              "      <td>Error Free</td>\n",
              "      <td>Error Free</td>\n",
              "      <td>Error Free</td>\n",
              "      <td>Error Free</td>\n",
              "    </tr>\n",
              "    <tr>\n",
              "      <th>4</th>\n",
              "      <td>Error Free</td>\n",
              "      <td>Error Free</td>\n",
              "      <td>Defective</td>\n",
              "      <td>Error Free</td>\n",
              "    </tr>\n",
              "    <tr>\n",
              "      <th>...</th>\n",
              "      <td>...</td>\n",
              "      <td>...</td>\n",
              "      <td>...</td>\n",
              "      <td>...</td>\n",
              "    </tr>\n",
              "    <tr>\n",
              "      <th>295</th>\n",
              "      <td>Error Free</td>\n",
              "      <td>Error Free</td>\n",
              "      <td>Error Free</td>\n",
              "      <td>Error Free</td>\n",
              "    </tr>\n",
              "    <tr>\n",
              "      <th>296</th>\n",
              "      <td>Error Free</td>\n",
              "      <td>Error Free</td>\n",
              "      <td>Error Free</td>\n",
              "      <td>Error Free</td>\n",
              "    </tr>\n",
              "    <tr>\n",
              "      <th>297</th>\n",
              "      <td>Error Free</td>\n",
              "      <td>Error Free</td>\n",
              "      <td>Defective</td>\n",
              "      <td>Error Free</td>\n",
              "    </tr>\n",
              "    <tr>\n",
              "      <th>298</th>\n",
              "      <td>Error Free</td>\n",
              "      <td>Error Free</td>\n",
              "      <td>Error Free</td>\n",
              "      <td>Error Free</td>\n",
              "    </tr>\n",
              "    <tr>\n",
              "      <th>299</th>\n",
              "      <td>Error Free</td>\n",
              "      <td>Defective</td>\n",
              "      <td>Defective</td>\n",
              "      <td>Error Free</td>\n",
              "    </tr>\n",
              "  </tbody>\n",
              "</table>\n",
              "<p>300 rows × 4 columns</p>\n",
              "</div>\n",
              "      <button class=\"colab-df-convert\" onclick=\"convertToInteractive('df-762ee8b6-0c53-4f43-8cdf-eb938dcb3ae2')\"\n",
              "              title=\"Convert this dataframe to an interactive table.\"\n",
              "              style=\"display:none;\">\n",
              "        \n",
              "  <svg xmlns=\"http://www.w3.org/2000/svg\" height=\"24px\"viewBox=\"0 0 24 24\"\n",
              "       width=\"24px\">\n",
              "    <path d=\"M0 0h24v24H0V0z\" fill=\"none\"/>\n",
              "    <path d=\"M18.56 5.44l.94 2.06.94-2.06 2.06-.94-2.06-.94-.94-2.06-.94 2.06-2.06.94zm-11 1L8.5 8.5l.94-2.06 2.06-.94-2.06-.94L8.5 2.5l-.94 2.06-2.06.94zm10 10l.94 2.06.94-2.06 2.06-.94-2.06-.94-.94-2.06-.94 2.06-2.06.94z\"/><path d=\"M17.41 7.96l-1.37-1.37c-.4-.4-.92-.59-1.43-.59-.52 0-1.04.2-1.43.59L10.3 9.45l-7.72 7.72c-.78.78-.78 2.05 0 2.83L4 21.41c.39.39.9.59 1.41.59.51 0 1.02-.2 1.41-.59l7.78-7.78 2.81-2.81c.8-.78.8-2.07 0-2.86zM5.41 20L4 18.59l7.72-7.72 1.47 1.35L5.41 20z\"/>\n",
              "  </svg>\n",
              "      </button>\n",
              "      \n",
              "  <style>\n",
              "    .colab-df-container {\n",
              "      display:flex;\n",
              "      flex-wrap:wrap;\n",
              "      gap: 12px;\n",
              "    }\n",
              "\n",
              "    .colab-df-convert {\n",
              "      background-color: #E8F0FE;\n",
              "      border: none;\n",
              "      border-radius: 50%;\n",
              "      cursor: pointer;\n",
              "      display: none;\n",
              "      fill: #1967D2;\n",
              "      height: 32px;\n",
              "      padding: 0 0 0 0;\n",
              "      width: 32px;\n",
              "    }\n",
              "\n",
              "    .colab-df-convert:hover {\n",
              "      background-color: #E2EBFA;\n",
              "      box-shadow: 0px 1px 2px rgba(60, 64, 67, 0.3), 0px 1px 3px 1px rgba(60, 64, 67, 0.15);\n",
              "      fill: #174EA6;\n",
              "    }\n",
              "\n",
              "    [theme=dark] .colab-df-convert {\n",
              "      background-color: #3B4455;\n",
              "      fill: #D2E3FC;\n",
              "    }\n",
              "\n",
              "    [theme=dark] .colab-df-convert:hover {\n",
              "      background-color: #434B5C;\n",
              "      box-shadow: 0px 1px 3px 1px rgba(0, 0, 0, 0.15);\n",
              "      filter: drop-shadow(0px 1px 2px rgba(0, 0, 0, 0.3));\n",
              "      fill: #FFFFFF;\n",
              "    }\n",
              "  </style>\n",
              "\n",
              "      <script>\n",
              "        const buttonEl =\n",
              "          document.querySelector('#df-762ee8b6-0c53-4f43-8cdf-eb938dcb3ae2 button.colab-df-convert');\n",
              "        buttonEl.style.display =\n",
              "          google.colab.kernel.accessAllowed ? 'block' : 'none';\n",
              "\n",
              "        async function convertToInteractive(key) {\n",
              "          const element = document.querySelector('#df-762ee8b6-0c53-4f43-8cdf-eb938dcb3ae2');\n",
              "          const dataTable =\n",
              "            await google.colab.kernel.invokeFunction('convertToInteractive',\n",
              "                                                     [key], {});\n",
              "          if (!dataTable) return;\n",
              "\n",
              "          const docLinkHtml = 'Like what you see? Visit the ' +\n",
              "            '<a target=\"_blank\" href=https://colab.research.google.com/notebooks/data_table.ipynb>data table notebook</a>'\n",
              "            + ' to learn more about interactive tables.';\n",
              "          element.innerHTML = '';\n",
              "          dataTable['output_type'] = 'display_data';\n",
              "          await google.colab.output.renderOutput(dataTable, element);\n",
              "          const docLink = document.createElement('div');\n",
              "          docLink.innerHTML = docLinkHtml;\n",
              "          element.appendChild(docLink);\n",
              "        }\n",
              "      </script>\n",
              "    </div>\n",
              "  </div>\n",
              "  "
            ]
          },
          "metadata": {},
          "execution_count": 101
        }
      ]
    },
    {
      "cell_type": "code",
      "source": [
        "centers.info()"
      ],
      "metadata": {
        "colab": {
          "base_uri": "https://localhost:8080/"
        },
        "id": "WReGUxr7qr5B",
        "outputId": "8ef6f565-1858-47c7-e0c2-7e768c4290c3"
      },
      "execution_count": null,
      "outputs": [
        {
          "output_type": "stream",
          "name": "stdout",
          "text": [
            "<class 'pandas.core.frame.DataFrame'>\n",
            "RangeIndex: 300 entries, 0 to 299\n",
            "Data columns (total 4 columns):\n",
            " #   Column        Non-Null Count  Dtype \n",
            "---  ------        --------------  ----- \n",
            " 0   Phillippines  300 non-null    object\n",
            " 1   Indonesia     300 non-null    object\n",
            " 2   Malta         300 non-null    object\n",
            " 3   India         300 non-null    object\n",
            "dtypes: object(4)\n",
            "memory usage: 9.5+ KB\n"
          ]
        }
      ]
    },
    {
      "cell_type": "code",
      "source": [
        "centers.isnull().sum()"
      ],
      "metadata": {
        "colab": {
          "base_uri": "https://localhost:8080/"
        },
        "id": "7odxav-vqu0Y",
        "outputId": "f7181da9-a87d-4d1e-8c98-8af092a7ce6c"
      },
      "execution_count": null,
      "outputs": [
        {
          "output_type": "execute_result",
          "data": {
            "text/plain": [
              "Phillippines    0\n",
              "Indonesia       0\n",
              "Malta           0\n",
              "India           0\n",
              "dtype: int64"
            ]
          },
          "metadata": {},
          "execution_count": 103
        }
      ]
    },
    {
      "cell_type": "code",
      "source": [
        "print(centers['Phillippines'].value_counts(),'\\n',centers['Indonesia'].value_counts(),\n",
        "      '\\n',centers['Malta'].value_counts(),'\\n',centers['India'].value_counts())"
      ],
      "metadata": {
        "colab": {
          "base_uri": "https://localhost:8080/"
        },
        "id": "2M1gTqlJq_NO",
        "outputId": "6172e6b3-4990-437b-84a4-3b8f383383b1"
      },
      "execution_count": null,
      "outputs": [
        {
          "output_type": "stream",
          "name": "stdout",
          "text": [
            "Error Free    271\n",
            "Defective      29\n",
            "Name: Phillippines, dtype: int64 \n",
            " Error Free    267\n",
            "Defective      33\n",
            "Name: Indonesia, dtype: int64 \n",
            " Error Free    269\n",
            "Defective      31\n",
            "Name: Malta, dtype: int64 \n",
            " Error Free    280\n",
            "Defective      20\n",
            "Name: India, dtype: int64\n"
          ]
        }
      ]
    },
    {
      "cell_type": "code",
      "source": [
        "observed_tab = [[271,267,269,280],\n",
        "                    [29,33,31,20]]\n",
        "print(observed_tab)"
      ],
      "metadata": {
        "colab": {
          "base_uri": "https://localhost:8080/"
        },
        "id": "FeEyk2O3sepC",
        "outputId": "f7d9fa93-677f-4bac-ac9d-873fc8539f22"
      },
      "execution_count": null,
      "outputs": [
        {
          "output_type": "stream",
          "name": "stdout",
          "text": [
            "[[271, 267, 269, 280], [29, 33, 31, 20]]\n"
          ]
        }
      ]
    },
    {
      "cell_type": "code",
      "source": [
        "# stat_tab,p_tab,degress of freedom df_tab = # of rows* # of columns -1 ,expected_tab\n",
        "from scipy.stats import chi2_contingency\n",
        "\n",
        "stat_tab, p_tab, df_tab, expected_tab =stats.chi2_contingency(observed_tab) \n",
        "stats.chi2_contingency(observed_tab)"
      ],
      "metadata": {
        "colab": {
          "base_uri": "https://localhost:8080/"
        },
        "id": "QBesH7l8spe6",
        "outputId": "82c3d5b4-bab0-4f7f-d9fc-5af600c90b70"
      },
      "execution_count": null,
      "outputs": [
        {
          "output_type": "execute_result",
          "data": {
            "text/plain": [
              "(3.858960685820355,\n",
              " 0.2771020991233135,\n",
              " 3,\n",
              " array([[271.75, 271.75, 271.75, 271.75],\n",
              "        [ 28.25,  28.25,  28.25,  28.25]]))"
            ]
          },
          "metadata": {},
          "execution_count": 141
        }
      ]
    },
    {
      "cell_type": "code",
      "source": [
        "observed_tele = np.array([271, 267, 269, 280, 29, 33, 31, 20])\n",
        "expected_tele = np.array([271.75, 271.75, 271.75, 271.75, 28.25, 28.25, 28.25, 28.25])"
      ],
      "metadata": {
        "id": "Yegwv63EvwN_"
      },
      "execution_count": null,
      "outputs": []
    },
    {
      "cell_type": "code",
      "source": [
        "#method1:\n",
        "statistic_tele , p_value_tele = stats.chisquare(observed_tele, expected_tele,df_tab)\n",
        "print(\"Statistic_tele = \",statistic_tele,'\\n', 'p_value_tele =',p_value_tele)"
      ],
      "metadata": {
        "colab": {
          "base_uri": "https://localhost:8080/"
        },
        "id": "ktJiHGO9v_m3",
        "outputId": "54c32884-959f-4126-bf9a-b0626018bb9d"
      },
      "execution_count": null,
      "outputs": [
        {
          "output_type": "stream",
          "name": "stdout",
          "text": [
            "Statistic_tele =  3.858960685820355 \n",
            " p_value_tele = 0.4254298144535761\n"
          ]
        }
      ]
    },
    {
      "cell_type": "code",
      "source": [
        "alpha = 0.05\n",
        "print('Significnace=%.3f, p=%.3f' % (alpha, p_value_tele))\n",
        "if p_value <= alpha:\n",
        "    print('\\n We reject Null Hypothesis','\\n\\n ∴ customer order forms defective % varies by centre')\n",
        "else:\n",
        "    print('\\n We fail to reject Null hypothesis','\\n\\n ∴ customer order forms defective % does not varies by centre')\n"
      ],
      "metadata": {
        "colab": {
          "base_uri": "https://localhost:8080/"
        },
        "id": "eXNG026zxEhh",
        "outputId": "19916f27-bed0-4ef3-f179-82cba212decb"
      },
      "execution_count": null,
      "outputs": [
        {
          "output_type": "stream",
          "name": "stdout",
          "text": [
            "Significnace=0.050, p=0.425\n",
            "\n",
            " We fail to reject Null hypothesis \n",
            "\n",
            " ∴ customer order forms defective % does not varies by centre\n"
          ]
        }
      ]
    },
    {
      "cell_type": "code",
      "source": [
        "#method 2\n",
        "from scipy.stats import chi2\n",
        "critical_value_tele=chi2.ppf(0.95,3)\n",
        "critical_value_tele\n",
        "\n",
        "#or\n",
        "#alpha = 0.05\n",
        "#prob=1-alpha\n",
        "#criticalvalue = chi2.ppf(prob,df_tab)\n",
        "#print(criticalvalue)\n"
      ],
      "metadata": {
        "colab": {
          "base_uri": "https://localhost:8080/"
        },
        "id": "Y3eige7_x8C_",
        "outputId": "854fa222-196a-4d9b-ef92-342fbfb39a63"
      },
      "execution_count": null,
      "outputs": [
        {
          "output_type": "execute_result",
          "data": {
            "text/plain": [
              "7.814727903251179"
            ]
          },
          "metadata": {},
          "execution_count": 159
        }
      ]
    },
    {
      "cell_type": "code",
      "source": [
        "from scipy.stats import chi2\n",
        "chi_square_statestic_tele=sum([(o-e)**2/e for o,e in zip(observed_tele,expected_tele)])\n",
        "chi_square_statestic_tele"
      ],
      "metadata": {
        "colab": {
          "base_uri": "https://localhost:8080/"
        },
        "id": "u_utpI8rySo5",
        "outputId": "d31bf989-3e6c-4f0c-f813-6cd6ad627ad2"
      },
      "execution_count": null,
      "outputs": [
        {
          "output_type": "execute_result",
          "data": {
            "text/plain": [
              "3.8589606858203545"
            ]
          },
          "metadata": {},
          "execution_count": 153
        }
      ]
    },
    {
      "cell_type": "code",
      "source": [
        "#p from chi square\n",
        "pvalue_tele=1-chi2.cdf(chi_square_statestic_tele,3)\n",
        "pvalue_tele"
      ],
      "metadata": {
        "colab": {
          "base_uri": "https://localhost:8080/"
        },
        "id": "8EsYTqTcyklU",
        "outputId": "8fd3f589-da56-47fe-8048-61815c23d36c"
      },
      "execution_count": null,
      "outputs": [
        {
          "output_type": "execute_result",
          "data": {
            "text/plain": [
              "0.2771020991233144"
            ]
          },
          "metadata": {},
          "execution_count": 155
        }
      ]
    },
    {
      "cell_type": "code",
      "source": [
        "if chi_square_statestic_tele >= critical_value_tele:\n",
        "   print('\\n We reject Null Hypothesis','\\n\\n ∴ customer order forms defective % varies by centre')\n",
        "else:\n",
        "    print('\\n We fail to reject Null hypothesis','\\n\\n ∴ customer order forms defective % does not varies by centre')\n"
      ],
      "metadata": {
        "colab": {
          "base_uri": "https://localhost:8080/"
        },
        "id": "FZS3WvjHy3_8",
        "outputId": "3fab15cc-dbd7-4ad5-bfec-63ea01ae6c5b"
      },
      "execution_count": null,
      "outputs": [
        {
          "output_type": "stream",
          "name": "stdout",
          "text": [
            "\n",
            " We fail to reject Null hypothesis \n",
            "\n",
            " ∴ customer order forms defective % does not varies by centre\n"
          ]
        }
      ]
    },
    {
      "cell_type": "markdown",
      "source": [
        "\n",
        "\n",
        "---\n",
        "\n",
        "                                                                  THANK YOU\n",
        "\n",
        "\n",
        "\n",
        "---\n",
        "\n",
        "\n",
        "\n"
      ],
      "metadata": {
        "id": "7ISrZ5hZzLq9"
      }
    }
  ]
}